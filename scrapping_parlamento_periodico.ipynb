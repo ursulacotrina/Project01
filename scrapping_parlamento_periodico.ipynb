{
  "cells": [
    {
      "cell_type": "markdown",
      "metadata": {
        "id": "view-in-github",
        "colab_type": "text"
      },
      "source": [
        "<a href=\"https://colab.research.google.com/github/ursulacotrina/Project01/blob/main/scrapping_parlamento_periodico.ipynb\" target=\"_parent\"><img src=\"https://colab.research.google.com/assets/colab-badge.svg\" alt=\"Open In Colab\"/></a>"
      ]
    },
    {
      "cell_type": "markdown",
      "metadata": {
        "id": "sGDeLb3r1-YW"
      },
      "source": [
        "El código hace scrapping de las hojas \"datoscongreso\" y \"datoscongresoseguimiento\" y utiliza el scrapping realizado anteriormente de \"datoscongresistas\". Luego, se hace un merge de las tres bases y se crean algunas variables para obtener una base intermedia que servirá como input para el script \"consolida.py\"."
      ]
    },
    {
      "cell_type": "markdown",
      "metadata": {
        "id": "PCzazQaQHxY9"
      },
      "source": [
        "## 01 Install dependencies"
      ]
    },
    {
      "cell_type": "code",
      "execution_count": null,
      "metadata": {
        "id": "I91B0P_mKh7n"
      },
      "outputs": [],
      "source": [
        "!pip install --upgrade -q pygsheets"
      ]
    },
    {
      "cell_type": "code",
      "execution_count": null,
      "metadata": {
        "colab": {
          "base_uri": "https://localhost:8080/"
        },
        "id": "tKwK7s0BPXFo",
        "outputId": "84ac5d87-b3d7-40ab-9480-b01241f2bf3b"
      },
      "outputs": [
        {
          "name": "stdout",
          "output_type": "stream",
          "text": [
            "Requirement already satisfied: wget in /usr/local/lib/python3.10/dist-packages (3.2)\n"
          ]
        }
      ],
      "source": [
        "!pip install wget"
      ]
    },
    {
      "cell_type": "code",
      "execution_count": 296,
      "metadata": {
        "colab": {
          "base_uri": "https://localhost:8080/"
        },
        "id": "JrjgVECYJBIl",
        "outputId": "ef013507-28c9-4ae7-e5e5-41641a04213d"
      },
      "outputs": [
        {
          "metadata": {
            "tags": null
          },
          "name": "stdout",
          "output_type": "stream",
          "text": [
            "Requirement already satisfied: Levenshtein in /usr/local/lib/python3.10/dist-packages (0.21.1)\n",
            "Requirement already satisfied: rapidfuzz<4.0.0,>=2.3.0 in /usr/local/lib/python3.10/dist-packages (from Levenshtein) (3.1.1)\n"
          ]
        }
      ],
      "source": [
        "!pip install Levenshtein"
      ]
    },
    {
      "cell_type": "code",
      "execution_count": 297,
      "metadata": {
        "colab": {
          "base_uri": "https://localhost:8080/"
        },
        "id": "8uVTvy56OHdn",
        "outputId": "e808dbdb-496c-4c00-e736-c7bf9f108da3"
      },
      "outputs": [
        {
          "output_type": "stream",
          "name": "stdout",
          "text": [
            "Requirement already satisfied: selenium in /usr/local/lib/python3.10/dist-packages (4.10.0)\n",
            "Requirement already satisfied: urllib3[socks]<3,>=1.26 in /usr/local/lib/python3.10/dist-packages (from selenium) (1.26.16)\n",
            "Requirement already satisfied: trio~=0.17 in /usr/local/lib/python3.10/dist-packages (from selenium) (0.22.1)\n",
            "Requirement already satisfied: trio-websocket~=0.9 in /usr/local/lib/python3.10/dist-packages (from selenium) (0.10.3)\n",
            "Requirement already satisfied: certifi>=2021.10.8 in /usr/local/lib/python3.10/dist-packages (from selenium) (2023.5.7)\n",
            "Requirement already satisfied: attrs>=20.1.0 in /usr/local/lib/python3.10/dist-packages (from trio~=0.17->selenium) (23.1.0)\n",
            "Requirement already satisfied: sortedcontainers in /usr/local/lib/python3.10/dist-packages (from trio~=0.17->selenium) (2.4.0)\n",
            "Requirement already satisfied: idna in /usr/local/lib/python3.10/dist-packages (from trio~=0.17->selenium) (3.4)\n",
            "Requirement already satisfied: outcome in /usr/local/lib/python3.10/dist-packages (from trio~=0.17->selenium) (1.2.0)\n",
            "Requirement already satisfied: sniffio in /usr/local/lib/python3.10/dist-packages (from trio~=0.17->selenium) (1.3.0)\n",
            "Requirement already satisfied: exceptiongroup>=1.0.0rc9 in /usr/local/lib/python3.10/dist-packages (from trio~=0.17->selenium) (1.1.1)\n",
            "Requirement already satisfied: wsproto>=0.14 in /usr/local/lib/python3.10/dist-packages (from trio-websocket~=0.9->selenium) (1.2.0)\n",
            "Requirement already satisfied: PySocks!=1.5.7,<2.0,>=1.5.6 in /usr/local/lib/python3.10/dist-packages (from urllib3[socks]<3,>=1.26->selenium) (1.7.1)\n",
            "Requirement already satisfied: h11<1,>=0.9.0 in /usr/local/lib/python3.10/dist-packages (from wsproto>=0.14->trio-websocket~=0.9->selenium) (0.14.0)\n",
            "Hit:1 http://deb.debian.org/debian buster InRelease\n",
            "Hit:2 http://deb.debian.org/debian buster-updates InRelease\n",
            "Hit:3 http://deb.debian.org/debian-security buster/updates InRelease\n",
            "Hit:4 https://developer.download.nvidia.com/compute/cuda/repos/ubuntu2004/x86_64  InRelease\n",
            "Hit:5 https://cloud.r-project.org/bin/linux/ubuntu focal-cran40/ InRelease\n",
            "Hit:6 http://ppa.launchpad.net/c2d4u.team/c2d4u4.0+/ubuntu focal InRelease\n",
            "Hit:7 http://security.ubuntu.com/ubuntu focal-security InRelease\n",
            "Hit:8 http://archive.ubuntu.com/ubuntu focal InRelease\n",
            "Hit:9 http://archive.ubuntu.com/ubuntu focal-updates InRelease\n",
            "Hit:10 http://ppa.launchpad.net/cran/libgit2/ubuntu focal InRelease\n",
            "Hit:11 http://archive.ubuntu.com/ubuntu focal-backports InRelease\n",
            "Hit:12 http://ppa.launchpad.net/deadsnakes/ppa/ubuntu focal InRelease\n",
            "Hit:13 http://ppa.launchpad.net/graphics-drivers/ppa/ubuntu focal InRelease\n",
            "Hit:14 http://ppa.launchpad.net/ubuntugis/ppa/ubuntu focal InRelease\n",
            "Reading package lists... Done\n",
            "Reading package lists... Done\n",
            "Building dependency tree       \n",
            "Reading state information... Done\n",
            "chromium-chromedriver is already the newest version (1:85.0.4183.83-0ubuntu0.20.04.3).\n",
            "0 upgraded, 0 newly installed, 0 to remove and 24 not upgraded.\n",
            "cp: '/usr/lib/chromium-browser/chromedriver' and '/usr/bin/chromedriver' are the same file\n"
          ]
        }
      ],
      "source": [
        "!pip install selenium\n",
        "!apt-get update # to update ubuntu to correctly run apt install\n",
        "!apt install chromium-chromedriver\n",
        "!cp /usr/lib/chromium-browser/chromedriver /usr/bin"
      ]
    },
    {
      "cell_type": "code",
      "execution_count": null,
      "metadata": {
        "colab": {
          "base_uri": "https://localhost:8080/"
        },
        "id": "WSXsioNnSck4",
        "outputId": "92b47e35-3005-466c-8330-48e95cc3651f"
      },
      "outputs": [
        {
          "output_type": "stream",
          "name": "stdout",
          "text": [
            "Executing: /tmp/apt-key-gpghome.RiZGU9IaNh/gpg.1.sh --keyserver keyserver.ubuntu.com --recv-keys DCC9EFBF77E11517\n",
            "gpg: key DCC9EFBF77E11517: \"Debian Stable Release Key (10/buster) <debian-release@lists.debian.org>\" not changed\n",
            "gpg: Total number processed: 1\n",
            "gpg:              unchanged: 1\n",
            "Executing: /tmp/apt-key-gpghome.iPB3Zvq1cZ/gpg.1.sh --keyserver keyserver.ubuntu.com --recv-keys 648ACFD622F3D138\n",
            "gpg: key DC30D7C23CBBABEE: \"Debian Archive Automatic Signing Key (10/buster) <ftpmaster@debian.org>\" not changed\n",
            "gpg: Total number processed: 1\n",
            "gpg:              unchanged: 1\n",
            "Executing: /tmp/apt-key-gpghome.D9rKnwST5K/gpg.1.sh --keyserver keyserver.ubuntu.com --recv-keys 112695A0E562B32A\n",
            "gpg: key 4DFAB270CAA96DFA: \"Debian Security Archive Automatic Signing Key (10/buster) <ftpmaster@debian.org>\" not changed\n",
            "gpg: Total number processed: 1\n",
            "gpg:              unchanged: 1\n",
            "gpg: cannot open '/dev/tty': No such device or address\n",
            "Warning: apt-key output should not be parsed (stdout is not a terminal)\n",
            "gpg: [stdout]: write error: Broken pipe\n",
            "gpg: filter_flush failed on close: Broken pipe\n",
            "gpg: cannot open '/dev/tty': No such device or address\n",
            "Warning: apt-key output should not be parsed (stdout is not a terminal)\n",
            "gpg: [stdout]: write error: Broken pipe\n",
            "gpg: filter_flush failed on close: Broken pipe\n",
            "gpg: cannot open '/dev/tty': No such device or address\n",
            "Warning: apt-key output should not be parsed (stdout is not a terminal)\n",
            "gpg: [stdout]: write error: Broken pipe\n",
            "gpg: filter_flush failed on close: Broken pipe\n",
            "Hit:1 http://deb.debian.org/debian buster InRelease\n",
            "Hit:2 http://deb.debian.org/debian buster-updates InRelease\n",
            "Hit:3 http://deb.debian.org/debian-security buster/updates InRelease\n",
            "Hit:4 https://cloud.r-project.org/bin/linux/ubuntu focal-cran40/ InRelease\n",
            "Hit:5 https://developer.download.nvidia.com/compute/cuda/repos/ubuntu2004/x86_64  InRelease\n",
            "Hit:6 http://ppa.launchpad.net/c2d4u.team/c2d4u4.0+/ubuntu focal InRelease\n",
            "Hit:7 http://security.ubuntu.com/ubuntu focal-security InRelease\n",
            "Hit:8 http://archive.ubuntu.com/ubuntu focal InRelease\n",
            "Hit:9 http://archive.ubuntu.com/ubuntu focal-updates InRelease\n",
            "Hit:10 http://ppa.launchpad.net/cran/libgit2/ubuntu focal InRelease\n",
            "Hit:11 http://archive.ubuntu.com/ubuntu focal-backports InRelease\n",
            "Hit:12 http://ppa.launchpad.net/deadsnakes/ppa/ubuntu focal InRelease\n",
            "Hit:13 http://ppa.launchpad.net/graphics-drivers/ppa/ubuntu focal InRelease\n",
            "Hit:14 http://ppa.launchpad.net/ubuntugis/ppa/ubuntu focal InRelease\n",
            "Reading package lists... Done\n",
            "Reading package lists... Done\n"
          ]
        }
      ],
      "source": [
        "# Permite ejecutar comandos de shell directamente en tu entorno de Colab\n",
        "%%shell\n",
        "\n",
        "# Ubuntu no longer distributes chromium-browser outside of snap\n",
        "#\n",
        "# Proposed solution: https://askubuntu.com/questions/1204571/how-to-install-chromium-without-snap\n",
        "\n",
        "# Add debian buster\n",
        "cat > /etc/apt/sources.list.d/debian.list <<'EOF'\n",
        "deb [arch=amd64 signed-by=/usr/share/keyrings/debian-buster.gpg] http://deb.debian.org/debian buster main\n",
        "deb [arch=amd64 signed-by=/usr/share/keyrings/debian-buster-updates.gpg] http://deb.debian.org/debian buster-updates main\n",
        "deb [arch=amd64 signed-by=/usr/share/keyrings/debian-security-buster.gpg] http://deb.debian.org/debian-security buster/updates main\n",
        "EOF\n",
        "\n",
        "# Add keys\n",
        "apt-key adv --keyserver keyserver.ubuntu.com --recv-keys DCC9EFBF77E11517\n",
        "apt-key adv --keyserver keyserver.ubuntu.com --recv-keys 648ACFD622F3D138\n",
        "apt-key adv --keyserver keyserver.ubuntu.com --recv-keys 112695A0E562B32A\n",
        "\n",
        "apt-key export 77E11517 | gpg --dearmour -o /usr/share/keyrings/debian-buster.gpg\n",
        "apt-key export 22F3D138 | gpg --dearmour -o /usr/share/keyrings/debian-buster-updates.gpg\n",
        "apt-key export E562B32A | gpg --dearmour -o /usr/share/keyrings/debian-security-buster.gpg\n",
        "\n",
        "# Prefer debian repo for chromium* packages only\n",
        "# Note the double-blank lines between entries\n",
        "cat > /etc/apt/preferences.d/chromium.pref << 'EOF'\n",
        "Package: *\n",
        "Pin: release a=eoan\n",
        "Pin-Priority: 500\n",
        "\n",
        "\n",
        "Package: *\n",
        "Pin: origin \"deb.debian.org\"\n",
        "Pin-Priority: 300\n",
        "\n",
        "\n",
        "Package: chromium*\n",
        "Pin: origin \"deb.debian.org\"\n",
        "Pin-Priority: 700\n",
        "EOF\n",
        "\n",
        "# Install chromium and chromium-driver\n",
        "apt-get update\n",
        "apt-get install chromium\n",
        "\n",
        "# Install xvfb\n",
        "apt install -y xvfb\n",
        "\n",
        "# Install Selenium-Profiles\n",
        "pip uninstall -y selenium_profiles\n",
        "pip install --no-cache-dir selenium_profiles>=2.2.6\n",
        "\n",
        "# pip install https://github.com/kaliiiiiiiiii/Selenium-Profiles/archive/refs/heads/dev.zip # dev-branch\n",
        "\n",
        "# install python packages\n",
        "pip install google-colab-shell\n",
        "pip install webdriver-manager\n",
        "pip install Pyvirtualdisplay"
      ]
    },
    {
      "cell_type": "markdown",
      "metadata": {
        "id": "xkMQwXk1IDoY"
      },
      "source": [
        "## 02 Install Packages"
      ]
    },
    {
      "cell_type": "code",
      "execution_count": null,
      "metadata": {
        "id": "MndC8f-7KUfx"
      },
      "outputs": [],
      "source": [
        "import google.auth\n",
        "from google.colab import auth\n",
        "auth.authenticate_user()\n",
        "import pygsheets\n",
        "credentials, _ = google.auth.default()\n",
        "gc = pygsheets.client.Client(credentials)"
      ]
    },
    {
      "cell_type": "code",
      "execution_count": null,
      "metadata": {
        "id": "ZRJoUtnGKr5F"
      },
      "outputs": [],
      "source": [
        "import pandas as pd\n",
        "\n",
        "from bs4 import BeautifulSoup\n",
        "from selenium.common.exceptions import NoSuchElementException, StaleElementReferenceException\n",
        "from selenium import webdriver\n",
        "from selenium.webdriver.common.by import By\n",
        "\n",
        "import sys\n",
        "sys.path.insert(0,'/usr/lib/chromium-browser/chromedriver')"
      ]
    },
    {
      "cell_type": "code",
      "execution_count": null,
      "metadata": {
        "id": "uyGWs3zkSGdH"
      },
      "outputs": [],
      "source": [
        "import warnings\n",
        "import datetime\n",
        "from datetime import datetime\n",
        "import time\n",
        "\n",
        "import Levenshtein  as lv\n",
        "from itertools import combinations, permutations\n",
        "import numpy as np"
      ]
    },
    {
      "cell_type": "code",
      "execution_count": null,
      "metadata": {
        "id": "T3wGpz0fHkLY"
      },
      "outputs": [],
      "source": [
        "import sys\n",
        "sys.path.insert(0,'/usr/lib/chromium-browser/chromedriver')\n",
        "from selenium import webdriver"
      ]
    },
    {
      "cell_type": "code",
      "execution_count": null,
      "metadata": {
        "colab": {
          "base_uri": "https://localhost:8080/",
          "height": 70
        },
        "id": "_skn3ukWuTkM",
        "outputId": "e7e3187d-98e5-4da7-8f9a-14edf037f15a"
      },
      "outputs": [
        {
          "data": {
            "application/vnd.google.colaboratory.intrinsic+json": {
              "type": "string"
            },
            "text/plain": [
              "\"\\nfrom selenium import webdriver\\nfrom selenium.webdriver.chrome.options import Options\\n\\nchrome_options = Options()\\nchrome_options.add_argument('--headless')\\nchrome_options.add_argument('--no-sandbox')\\nchrome_options.add_argument('--disable-dev-shm-usage')\\nd = webdriver.Chrome('/home/<user>/chromedriver',chrome_options=chrome_options)\\nd.get('https://www.google.nl/')\\n\""
            ]
          },
          "execution_count": 275,
          "metadata": {},
          "output_type": "execute_result"
        }
      ],
      "source": [
        "'''\n",
        "from selenium import webdriver\n",
        "from selenium.webdriver.chrome.options import Options\n",
        "\n",
        "chrome_options = Options()\n",
        "chrome_options.add_argument('--headless')\n",
        "chrome_options.add_argument('--no-sandbox')\n",
        "chrome_options.add_argument('--disable-dev-shm-usage')\n",
        "d = webdriver.Chrome('/home/<user>/chromedriver',chrome_options=chrome_options)\n",
        "d.get('https://www.google.nl/')\n",
        "'''\n"
      ]
    },
    {
      "cell_type": "code",
      "execution_count": null,
      "metadata": {
        "colab": {
          "base_uri": "https://localhost:8080/",
          "height": 105
        },
        "id": "5DXYcT1K1zSP",
        "outputId": "c6dfddb6-e962-478b-a0c1-87fc25df1056"
      },
      "outputs": [
        {
          "data": {
            "application/vnd.google.colaboratory.intrinsic+json": {
              "type": "string"
            },
            "text/plain": [
              "'\\nfrom selenium import webdriver\\nfrom selenium.webdriver.chrome.options import Options\\n\\noptions = Options()\\noptions.binary_location = \"C:\\\\path\\\\to\\\\chrome.exe\"    #chrome binary location specified here\\noptions.add_argument(\"--start-maximized\") #open Browser in maximized mode\\noptions.add_argument(\"--no-sandbox\") #bypass OS security model\\noptions.add_argument(\"--disable-dev-shm-usage\") #overcome limited resource problems\\noptions.add_experimental_option(\"excludeSwitches\", [\"enable-automation\"])\\noptions.add_experimental_option(\\'useAutomationExtension\\', False)\\ndriver = webdriver.Chrome(options=options, executable_path=r\\'C:\\\\path\\to\\\\chromedriver.exe\\')\\ndriver.get(\\'http://google.com/\\')\\n'"
            ]
          },
          "execution_count": 276,
          "metadata": {},
          "output_type": "execute_result"
        }
      ],
      "source": [
        "'''\n",
        "from selenium import webdriver\n",
        "from selenium.webdriver.chrome.options import Options\n",
        "\n",
        "options = Options()\n",
        "options.binary_location = \"C:\\\\path\\\\to\\\\chrome.exe\"    #chrome binary location specified here\n",
        "options.add_argument(\"--start-maximized\") #open Browser in maximized mode\n",
        "options.add_argument(\"--no-sandbox\") #bypass OS security model\n",
        "options.add_argument(\"--disable-dev-shm-usage\") #overcome limited resource problems\n",
        "options.add_experimental_option(\"excludeSwitches\", [\"enable-automation\"])\n",
        "options.add_experimental_option('useAutomationExtension', False)\n",
        "driver = webdriver.Chrome(options=options, executable_path=r'C:\\path\\to\\chromedriver.exe')\n",
        "driver.get('http://google.com/')\n",
        "'''"
      ]
    },
    {
      "cell_type": "code",
      "execution_count": null,
      "metadata": {
        "colab": {
          "base_uri": "https://localhost:8080/",
          "height": 105
        },
        "id": "spAD0ujtI2b0",
        "outputId": "1f15aa36-9468-4d3d-d449-4d46011065fc"
      },
      "outputs": [
        {
          "data": {
            "application/vnd.google.colaboratory.intrinsic+json": {
              "type": "string"
            },
            "text/plain": [
              "'\\nfrom selenium import webdriver\\nfrom selenium.webdriver.chrome.options import Options\\nchrome_options = Options()\\nchrome_options.add_argument(\"--headless\")\\nchrome_options.add_argument(\\'--no-sandbox\\')\\ndriver = webdriver.Chrome(\\'/usr/lib/chromium-browser/chromedriver\\', options=chrome_options)\\ndriver.get(\\'http://www.google.com\\')\\n\\nfrom selenium import webdriver\\n\\nchrome_options = webdriver.ChromeOptions()\\nchrome_options.add_argument(\\'--headless\\')\\nchrome_options.add_argument(\\'--no-sandbox\\')\\nchrome_options.add_argument(\\'--disable-dev-shm-usage\\')\\n\\nbrowser = webdriver.Chrome(r\\'/usr/bin/chromedriver\\', options=chrome_options)\\n'"
            ]
          },
          "execution_count": 277,
          "metadata": {},
          "output_type": "execute_result"
        }
      ],
      "source": [
        "'''\n",
        "from selenium import webdriver\n",
        "from selenium.webdriver.chrome.options import Options\n",
        "chrome_options = Options()\n",
        "chrome_options.add_argument(\"--headless\")\n",
        "chrome_options.add_argument('--no-sandbox')\n",
        "driver = webdriver.Chrome('/usr/lib/chromium-browser/chromedriver', options=chrome_options)\n",
        "driver.get('http://www.google.com')\n",
        "\n",
        "from selenium import webdriver\n",
        "\n",
        "chrome_options = webdriver.ChromeOptions()\n",
        "chrome_options.add_argument('--headless')\n",
        "chrome_options.add_argument('--no-sandbox')\n",
        "chrome_options.add_argument('--disable-dev-shm-usage')\n",
        "\n",
        "browser = webdriver.Chrome(r'/usr/bin/chromedriver', options=chrome_options)\n",
        "'''"
      ]
    },
    {
      "cell_type": "markdown",
      "metadata": {
        "id": "uxUOnd5lINiY"
      },
      "source": [
        "## 03 Functions"
      ]
    },
    {
      "cell_type": "code",
      "execution_count": null,
      "metadata": {
        "id": "UxET4-WIHziX"
      },
      "outputs": [],
      "source": [
        "def open_gsheets(link, sheet_index):\n",
        "  sh1 = gc.open_by_url(link)\n",
        "  wks = sh1[sheet_index]\n",
        "  data_get = pd.DataFrame(wks.get_all_records())\n",
        "  return data_get"
      ]
    },
    {
      "cell_type": "code",
      "execution_count": null,
      "metadata": {
        "id": "l7kEXXOMv1nS"
      },
      "outputs": [],
      "source": [
        "def combinations_string(phrases):\n",
        "  p = phrases.split()\n",
        "  return [\" \".join(a) for a in permutations(p, len(p))]"
      ]
    },
    {
      "cell_type": "code",
      "execution_count": null,
      "metadata": {
        "id": "hPXxnI-MFg9E"
      },
      "outputs": [],
      "source": [
        "def match_phrases_target(list_1, list_2, nn):\n",
        "  '''\n",
        "  match_phrases_target\n",
        "\n",
        "  Compare all word combinations of phrases versus a string target by Levenshtein algorithm, result is data frame with\n",
        "  list of phrases, list of NN firsts string target more likely to match list of phrases, combination winner and ratio of match\n",
        "  calculated by Levenshtein\n",
        "  '''\n",
        "  r  =pd.DataFrame(columns=['index', 'list_1_phrases', 'list_2_ccpp', 'combination', 'ratio'])\n",
        "  nn = nn\n",
        "  for i in list_1:\n",
        "    #print('frase: ',i)\n",
        "    k = []\n",
        "    for l in list_2:\n",
        "      w=[[],[]]\n",
        "      for j in combinations_string(i):\n",
        "        aa = lv.ratio(j, l)\n",
        "        w[0].append(j)\n",
        "        w[1].append(aa)\n",
        "        #print('ccpp: '+l, 'combinación: '+j, aa)\n",
        "      a_max = max(w[1])\n",
        "      a_max_arg = w[0][w[1].index(max(w[1]))]\n",
        "      k.append([i, l, a_max_arg,a_max])\n",
        "    #print(k)\n",
        "    dd = pd.DataFrame(k, columns=['list_1_phrases', 'list_2_ccpp', 'combination', 'ratio']).sort_values(\n",
        "      by=['list_1_phrases','ratio'], ascending=False).reset_index()[0:nn]\n",
        "    r = r.append(dd, ignore_index=True)\n",
        "  return r"
      ]
    },
    {
      "cell_type": "markdown",
      "metadata": {
        "id": "nXFq6PnwJwdR"
      },
      "source": [
        "## 04 Import data"
      ]
    },
    {
      "cell_type": "markdown",
      "metadata": {
        "id": "ADO5H8_2Tgoe"
      },
      "source": [
        "### 04 01 scrapkeys"
      ]
    },
    {
      "cell_type": "code",
      "execution_count": null,
      "metadata": {
        "colab": {
          "base_uri": "https://localhost:8080/",
          "height": 775
        },
        "id": "FP-c1aKJJnZp",
        "outputId": "c9e1a8c0-57d8-446b-972f-d092136af653"
      },
      "outputs": [
        {
          "data": {
            "text/html": [
              "\n",
              "  <div id=\"df-06f425df-64ca-484f-a3f6-a549fad18af8\">\n",
              "    <div class=\"colab-df-container\">\n",
              "      <div>\n",
              "<style scoped>\n",
              "    .dataframe tbody tr th:only-of-type {\n",
              "        vertical-align: middle;\n",
              "    }\n",
              "\n",
              "    .dataframe tbody tr th {\n",
              "        vertical-align: top;\n",
              "    }\n",
              "\n",
              "    .dataframe thead th {\n",
              "        text-align: right;\n",
              "    }\n",
              "</style>\n",
              "<table border=\"1\" class=\"dataframe\">\n",
              "  <thead>\n",
              "    <tr style=\"text-align: right;\">\n",
              "      <th></th>\n",
              "      <th>var</th>\n",
              "      <th>path</th>\n",
              "      <th>featurestable</th>\n",
              "      <th>code</th>\n",
              "      <th>dataappend</th>\n",
              "    </tr>\n",
              "  </thead>\n",
              "  <tbody>\n",
              "    <tr>\n",
              "      <th>0</th>\n",
              "      <td>titulo</td>\n",
              "      <td>/html/body/app-root/app-publico/div[3]/app-exp...</td>\n",
              "      <td>features</td>\n",
              "      <td>titulo=driver.find_element(By.XPATH,'/html/bod...</td>\n",
              "      <td>'titulo': titulo if status else None,</td>\n",
              "    </tr>\n",
              "    <tr>\n",
              "      <th>1</th>\n",
              "      <td>periodo</td>\n",
              "      <td>/html/body/app-root/app-publico/div[3]/app-exp...</td>\n",
              "      <td>features</td>\n",
              "      <td>periodo=driver.find_element(By.XPATH,'/html/bo...</td>\n",
              "      <td>'periodo': periodo if status else None,</td>\n",
              "    </tr>\n",
              "    <tr>\n",
              "      <th>2</th>\n",
              "      <td>legisla</td>\n",
              "      <td>/html/body/app-root/app-publico/div[3]/app-exp...</td>\n",
              "      <td>features</td>\n",
              "      <td>legisla=driver.find_element(By.XPATH,'/html/bo...</td>\n",
              "      <td>'legisla': legisla if status else None,</td>\n",
              "    </tr>\n",
              "    <tr>\n",
              "      <th>3</th>\n",
              "      <td>fechapresenta</td>\n",
              "      <td>/html/body/app-root/app-publico/div[3]/app-exp...</td>\n",
              "      <td>features</td>\n",
              "      <td>fechapresenta=driver.find_element(By.XPATH,'/h...</td>\n",
              "      <td>'fechapresenta': fechapresenta if status else ...</td>\n",
              "    </tr>\n",
              "    <tr>\n",
              "      <th>4</th>\n",
              "      <td>proponente</td>\n",
              "      <td>/html/body/app-root/app-publico/div[3]/app-exp...</td>\n",
              "      <td>features</td>\n",
              "      <td>proponente=driver.find_element(By.XPATH,'/html...</td>\n",
              "      <td>'proponente': proponente if status else None,</td>\n",
              "    </tr>\n",
              "    <tr>\n",
              "      <th>5</th>\n",
              "      <td>sumilla</td>\n",
              "      <td>/html/body/app-root/app-publico/div[3]/app-exp...</td>\n",
              "      <td>features</td>\n",
              "      <td>sumilla=driver.find_element(By.XPATH,'/html/bo...</td>\n",
              "      <td>'sumilla': sumilla if status else None,</td>\n",
              "    </tr>\n",
              "    <tr>\n",
              "      <th>6</th>\n",
              "      <td>observaciones</td>\n",
              "      <td>/html/body/app-root/app-publico/div[3]/app-exp...</td>\n",
              "      <td>features</td>\n",
              "      <td>observaciones=driver.find_element(By.XPATH,'/h...</td>\n",
              "      <td>'observaciones': observaciones if status else ...</td>\n",
              "    </tr>\n",
              "    <tr>\n",
              "      <th>7</th>\n",
              "      <td>autor</td>\n",
              "      <td>/html/body/app-root/app-publico/div[3]/app-exp...</td>\n",
              "      <td>features</td>\n",
              "      <td>autor=driver.find_element(By.XPATH,'/html/body...</td>\n",
              "      <td>'autor': autor if status else None,</td>\n",
              "    </tr>\n",
              "    <tr>\n",
              "      <th>8</th>\n",
              "      <td>coautor</td>\n",
              "      <td>/html/body/app-root/app-publico/div[3]/app-exp...</td>\n",
              "      <td>features</td>\n",
              "      <td>coautor=driver.find_element(By.XPATH,'/html/bo...</td>\n",
              "      <td>'coautor': coautor if status else None,</td>\n",
              "    </tr>\n",
              "    <tr>\n",
              "      <th>9</th>\n",
              "      <td>adherentes</td>\n",
              "      <td>/html/body/app-root/app-publico/div[3]/app-exp...</td>\n",
              "      <td>features</td>\n",
              "      <td>adherentes=driver.find_element(By.XPATH,'/html...</td>\n",
              "      <td>'adherentes': adherentes if status else None,</td>\n",
              "    </tr>\n",
              "    <tr>\n",
              "      <th>10</th>\n",
              "      <td>grupoparla</td>\n",
              "      <td>/html/body/app-root/app-publico/div[3]/app-exp...</td>\n",
              "      <td>features</td>\n",
              "      <td>grupoparla=driver.find_element(By.XPATH,'/html...</td>\n",
              "      <td>'grupoparla': grupoparla if status else None,</td>\n",
              "    </tr>\n",
              "    <tr>\n",
              "      <th>11</th>\n",
              "      <td>comisiones</td>\n",
              "      <td>/html/body/app-root/app-publico/div[3]/app-exp...</td>\n",
              "      <td>features</td>\n",
              "      <td>comisiones=driver.find_element(By.XPATH,'/html...</td>\n",
              "      <td>'comisiones': comisiones if status else None,</td>\n",
              "    </tr>\n",
              "    <tr>\n",
              "      <th>12</th>\n",
              "      <td>ultimoestado</td>\n",
              "      <td>/html/body/app-root/app-publico/div[3]/app-exp...</td>\n",
              "      <td>features</td>\n",
              "      <td>ultimoestado=driver.find_element(By.XPATH,'/ht...</td>\n",
              "      <td>'ultimoestado': ultimoestado if status else None,</td>\n",
              "    </tr>\n",
              "    <tr>\n",
              "      <th>13</th>\n",
              "      <td>seguimiento</td>\n",
              "      <td>//*[@id=\"p-tabpanel-0\"]/p-table/div/div</td>\n",
              "      <td>table</td>\n",
              "      <td>seguimiento=driver.find_element(By.XPATH,'//*[...</td>\n",
              "      <td>'seguimiento': seguimiento if status else None,</td>\n",
              "    </tr>\n",
              "  </tbody>\n",
              "</table>\n",
              "</div>\n",
              "      <button class=\"colab-df-convert\" onclick=\"convertToInteractive('df-06f425df-64ca-484f-a3f6-a549fad18af8')\"\n",
              "              title=\"Convert this dataframe to an interactive table.\"\n",
              "              style=\"display:none;\">\n",
              "        \n",
              "  <svg xmlns=\"http://www.w3.org/2000/svg\" height=\"24px\"viewBox=\"0 0 24 24\"\n",
              "       width=\"24px\">\n",
              "    <path d=\"M0 0h24v24H0V0z\" fill=\"none\"/>\n",
              "    <path d=\"M18.56 5.44l.94 2.06.94-2.06 2.06-.94-2.06-.94-.94-2.06-.94 2.06-2.06.94zm-11 1L8.5 8.5l.94-2.06 2.06-.94-2.06-.94L8.5 2.5l-.94 2.06-2.06.94zm10 10l.94 2.06.94-2.06 2.06-.94-2.06-.94-.94-2.06-.94 2.06-2.06.94z\"/><path d=\"M17.41 7.96l-1.37-1.37c-.4-.4-.92-.59-1.43-.59-.52 0-1.04.2-1.43.59L10.3 9.45l-7.72 7.72c-.78.78-.78 2.05 0 2.83L4 21.41c.39.39.9.59 1.41.59.51 0 1.02-.2 1.41-.59l7.78-7.78 2.81-2.81c.8-.78.8-2.07 0-2.86zM5.41 20L4 18.59l7.72-7.72 1.47 1.35L5.41 20z\"/>\n",
              "  </svg>\n",
              "      </button>\n",
              "      \n",
              "  <style>\n",
              "    .colab-df-container {\n",
              "      display:flex;\n",
              "      flex-wrap:wrap;\n",
              "      gap: 12px;\n",
              "    }\n",
              "\n",
              "    .colab-df-convert {\n",
              "      background-color: #E8F0FE;\n",
              "      border: none;\n",
              "      border-radius: 50%;\n",
              "      cursor: pointer;\n",
              "      display: none;\n",
              "      fill: #1967D2;\n",
              "      height: 32px;\n",
              "      padding: 0 0 0 0;\n",
              "      width: 32px;\n",
              "    }\n",
              "\n",
              "    .colab-df-convert:hover {\n",
              "      background-color: #E2EBFA;\n",
              "      box-shadow: 0px 1px 2px rgba(60, 64, 67, 0.3), 0px 1px 3px 1px rgba(60, 64, 67, 0.15);\n",
              "      fill: #174EA6;\n",
              "    }\n",
              "\n",
              "    [theme=dark] .colab-df-convert {\n",
              "      background-color: #3B4455;\n",
              "      fill: #D2E3FC;\n",
              "    }\n",
              "\n",
              "    [theme=dark] .colab-df-convert:hover {\n",
              "      background-color: #434B5C;\n",
              "      box-shadow: 0px 1px 3px 1px rgba(0, 0, 0, 0.15);\n",
              "      filter: drop-shadow(0px 1px 2px rgba(0, 0, 0, 0.3));\n",
              "      fill: #FFFFFF;\n",
              "    }\n",
              "  </style>\n",
              "\n",
              "      <script>\n",
              "        const buttonEl =\n",
              "          document.querySelector('#df-06f425df-64ca-484f-a3f6-a549fad18af8 button.colab-df-convert');\n",
              "        buttonEl.style.display =\n",
              "          google.colab.kernel.accessAllowed ? 'block' : 'none';\n",
              "\n",
              "        async function convertToInteractive(key) {\n",
              "          const element = document.querySelector('#df-06f425df-64ca-484f-a3f6-a549fad18af8');\n",
              "          const dataTable =\n",
              "            await google.colab.kernel.invokeFunction('convertToInteractive',\n",
              "                                                     [key], {});\n",
              "          if (!dataTable) return;\n",
              "\n",
              "          const docLinkHtml = 'Like what you see? Visit the ' +\n",
              "            '<a target=\"_blank\" href=https://colab.research.google.com/notebooks/data_table.ipynb>data table notebook</a>'\n",
              "            + ' to learn more about interactive tables.';\n",
              "          element.innerHTML = '';\n",
              "          dataTable['output_type'] = 'display_data';\n",
              "          await google.colab.output.renderOutput(dataTable, element);\n",
              "          const docLink = document.createElement('div');\n",
              "          docLink.innerHTML = docLinkHtml;\n",
              "          element.appendChild(docLink);\n",
              "        }\n",
              "      </script>\n",
              "    </div>\n",
              "  </div>\n",
              "  "
            ],
            "text/plain": [
              "              var                                               path  \\\n",
              "0          titulo  /html/body/app-root/app-publico/div[3]/app-exp...   \n",
              "1         periodo  /html/body/app-root/app-publico/div[3]/app-exp...   \n",
              "2         legisla  /html/body/app-root/app-publico/div[3]/app-exp...   \n",
              "3   fechapresenta  /html/body/app-root/app-publico/div[3]/app-exp...   \n",
              "4      proponente  /html/body/app-root/app-publico/div[3]/app-exp...   \n",
              "5         sumilla  /html/body/app-root/app-publico/div[3]/app-exp...   \n",
              "6   observaciones  /html/body/app-root/app-publico/div[3]/app-exp...   \n",
              "7           autor  /html/body/app-root/app-publico/div[3]/app-exp...   \n",
              "8         coautor  /html/body/app-root/app-publico/div[3]/app-exp...   \n",
              "9      adherentes  /html/body/app-root/app-publico/div[3]/app-exp...   \n",
              "10     grupoparla  /html/body/app-root/app-publico/div[3]/app-exp...   \n",
              "11     comisiones  /html/body/app-root/app-publico/div[3]/app-exp...   \n",
              "12   ultimoestado  /html/body/app-root/app-publico/div[3]/app-exp...   \n",
              "13    seguimiento            //*[@id=\"p-tabpanel-0\"]/p-table/div/div   \n",
              "\n",
              "   featurestable                                               code  \\\n",
              "0       features  titulo=driver.find_element(By.XPATH,'/html/bod...   \n",
              "1       features  periodo=driver.find_element(By.XPATH,'/html/bo...   \n",
              "2       features  legisla=driver.find_element(By.XPATH,'/html/bo...   \n",
              "3       features  fechapresenta=driver.find_element(By.XPATH,'/h...   \n",
              "4       features  proponente=driver.find_element(By.XPATH,'/html...   \n",
              "5       features  sumilla=driver.find_element(By.XPATH,'/html/bo...   \n",
              "6       features  observaciones=driver.find_element(By.XPATH,'/h...   \n",
              "7       features  autor=driver.find_element(By.XPATH,'/html/body...   \n",
              "8       features  coautor=driver.find_element(By.XPATH,'/html/bo...   \n",
              "9       features  adherentes=driver.find_element(By.XPATH,'/html...   \n",
              "10      features  grupoparla=driver.find_element(By.XPATH,'/html...   \n",
              "11      features  comisiones=driver.find_element(By.XPATH,'/html...   \n",
              "12      features  ultimoestado=driver.find_element(By.XPATH,'/ht...   \n",
              "13         table  seguimiento=driver.find_element(By.XPATH,'//*[...   \n",
              "\n",
              "                                           dataappend  \n",
              "0               'titulo': titulo if status else None,  \n",
              "1             'periodo': periodo if status else None,  \n",
              "2             'legisla': legisla if status else None,  \n",
              "3   'fechapresenta': fechapresenta if status else ...  \n",
              "4       'proponente': proponente if status else None,  \n",
              "5             'sumilla': sumilla if status else None,  \n",
              "6   'observaciones': observaciones if status else ...  \n",
              "7                 'autor': autor if status else None,  \n",
              "8             'coautor': coautor if status else None,  \n",
              "9       'adherentes': adherentes if status else None,  \n",
              "10      'grupoparla': grupoparla if status else None,  \n",
              "11      'comisiones': comisiones if status else None,  \n",
              "12  'ultimoestado': ultimoestado if status else None,  \n",
              "13    'seguimiento': seguimiento if status else None,  "
            ]
          },
          "execution_count": 281,
          "metadata": {},
          "output_type": "execute_result"
        }
      ],
      "source": [
        "link = 'https://docs.google.com/spreadsheets/d/1FQeZHvmFS5SAIMgGkpP7KNW7CxWu2cP95SkjZqTCh34/edit#gid=0'\n",
        "sheet_index = 0\n",
        "variables1 = open_gsheets(link, sheet_index)\n",
        "variables1"
      ]
    },
    {
      "cell_type": "markdown",
      "metadata": {
        "id": "iRaRs_7LTu4G"
      },
      "source": [
        "### 04 02 Acciones y evaluación"
      ]
    },
    {
      "cell_type": "code",
      "execution_count": null,
      "metadata": {
        "colab": {
          "base_uri": "https://localhost:8080/",
          "height": 331
        },
        "id": "z9cHP4cWT2Q4",
        "outputId": "c284c347-94bd-4758-beb6-919f0b370a01"
      },
      "outputs": [
        {
          "data": {
            "text/html": [
              "\n",
              "  <div id=\"df-8f6ca2a7-cfb0-421e-8e66-22d6796d04d8\">\n",
              "    <div class=\"colab-df-container\">\n",
              "      <div>\n",
              "<style scoped>\n",
              "    .dataframe tbody tr th:only-of-type {\n",
              "        vertical-align: middle;\n",
              "    }\n",
              "\n",
              "    .dataframe tbody tr th {\n",
              "        vertical-align: top;\n",
              "    }\n",
              "\n",
              "    .dataframe thead th {\n",
              "        text-align: right;\n",
              "    }\n",
              "</style>\n",
              "<table border=\"1\" class=\"dataframe\">\n",
              "  <thead>\n",
              "    <tr style=\"text-align: right;\">\n",
              "      <th></th>\n",
              "      <th>Numero</th>\n",
              "      <th>Nombre Corto</th>\n",
              "      <th>Nombre grupo</th>\n",
              "      <th>enlace</th>\n",
              "    </tr>\n",
              "  </thead>\n",
              "  <tbody>\n",
              "    <tr>\n",
              "      <th>0</th>\n",
              "      <td>2871</td>\n",
              "      <td>Interplaza</td>\n",
              "      <td>Comisiones Bancarias</td>\n",
              "      <td>https://wb2server.congreso.gob.pe/spley-portal...</td>\n",
              "    </tr>\n",
              "    <tr>\n",
              "      <th>1</th>\n",
              "      <td>3739</td>\n",
              "      <td>Interplaza, transferencia y pago con otra tarjeta</td>\n",
              "      <td>Comisiones Bancarias</td>\n",
              "      <td>https://wb2server.congreso.gob.pe/spley-portal...</td>\n",
              "    </tr>\n",
              "    <tr>\n",
              "      <th>2</th>\n",
              "      <td>3262</td>\n",
              "      <td>Pago con cualquier tarjeta (débito o crédito)</td>\n",
              "      <td>Comisiones Bancarias</td>\n",
              "      <td>https://wb2server.congreso.gob.pe/spley-portal...</td>\n",
              "    </tr>\n",
              "    <tr>\n",
              "      <th>3</th>\n",
              "      <td>3428</td>\n",
              "      <td>Comisión por transferencia</td>\n",
              "      <td>Comisiones Bancarias</td>\n",
              "      <td>https://wb2server.congreso.gob.pe/spley-portal...</td>\n",
              "    </tr>\n",
              "    <tr>\n",
              "      <th>4</th>\n",
              "      <td>4359</td>\n",
              "      <td>Comisión por depósito y retiro de dinero en ve...</td>\n",
              "      <td>Comisiones Bancarias</td>\n",
              "      <td>https://wb2server.congreso.gob.pe/spley-portal...</td>\n",
              "    </tr>\n",
              "    <tr>\n",
              "      <th>5</th>\n",
              "      <td>4360</td>\n",
              "      <td>Bloqueo de banca móvil</td>\n",
              "      <td>Comisiones Bancarias</td>\n",
              "      <td>https://wb2server.congreso.gob.pe/spley-portal...</td>\n",
              "    </tr>\n",
              "    <tr>\n",
              "      <th>6</th>\n",
              "      <td>4525</td>\n",
              "      <td>Proyecto de Ley 4525 y 4704: Reprogramación de...</td>\n",
              "      <td>Reprogramación de Deudas por Lluvias</td>\n",
              "      <td>https://wb2server.congreso.gob.pe/spley-portal...</td>\n",
              "    </tr>\n",
              "    <tr>\n",
              "      <th>7</th>\n",
              "      <td>4704</td>\n",
              "      <td>Proyecto de Ley 4525 y 4704: Reprogramación de...</td>\n",
              "      <td>Reprogramación de Deudas por Lluvias</td>\n",
              "      <td>https://wb2server.congreso.gob.pe/spley-portal...</td>\n",
              "    </tr>\n",
              "    <tr>\n",
              "      <th>8</th>\n",
              "      <td>4939</td>\n",
              "      <td>Compensación en cuentas bancarias</td>\n",
              "      <td>Compensación de Cuentas</td>\n",
              "      <td>https://wb2server.congreso.gob.pe/spley-portal...</td>\n",
              "    </tr>\n",
              "  </tbody>\n",
              "</table>\n",
              "</div>\n",
              "      <button class=\"colab-df-convert\" onclick=\"convertToInteractive('df-8f6ca2a7-cfb0-421e-8e66-22d6796d04d8')\"\n",
              "              title=\"Convert this dataframe to an interactive table.\"\n",
              "              style=\"display:none;\">\n",
              "        \n",
              "  <svg xmlns=\"http://www.w3.org/2000/svg\" height=\"24px\"viewBox=\"0 0 24 24\"\n",
              "       width=\"24px\">\n",
              "    <path d=\"M0 0h24v24H0V0z\" fill=\"none\"/>\n",
              "    <path d=\"M18.56 5.44l.94 2.06.94-2.06 2.06-.94-2.06-.94-.94-2.06-.94 2.06-2.06.94zm-11 1L8.5 8.5l.94-2.06 2.06-.94-2.06-.94L8.5 2.5l-.94 2.06-2.06.94zm10 10l.94 2.06.94-2.06 2.06-.94-2.06-.94-.94-2.06-.94 2.06-2.06.94z\"/><path d=\"M17.41 7.96l-1.37-1.37c-.4-.4-.92-.59-1.43-.59-.52 0-1.04.2-1.43.59L10.3 9.45l-7.72 7.72c-.78.78-.78 2.05 0 2.83L4 21.41c.39.39.9.59 1.41.59.51 0 1.02-.2 1.41-.59l7.78-7.78 2.81-2.81c.8-.78.8-2.07 0-2.86zM5.41 20L4 18.59l7.72-7.72 1.47 1.35L5.41 20z\"/>\n",
              "  </svg>\n",
              "      </button>\n",
              "      \n",
              "  <style>\n",
              "    .colab-df-container {\n",
              "      display:flex;\n",
              "      flex-wrap:wrap;\n",
              "      gap: 12px;\n",
              "    }\n",
              "\n",
              "    .colab-df-convert {\n",
              "      background-color: #E8F0FE;\n",
              "      border: none;\n",
              "      border-radius: 50%;\n",
              "      cursor: pointer;\n",
              "      display: none;\n",
              "      fill: #1967D2;\n",
              "      height: 32px;\n",
              "      padding: 0 0 0 0;\n",
              "      width: 32px;\n",
              "    }\n",
              "\n",
              "    .colab-df-convert:hover {\n",
              "      background-color: #E2EBFA;\n",
              "      box-shadow: 0px 1px 2px rgba(60, 64, 67, 0.3), 0px 1px 3px 1px rgba(60, 64, 67, 0.15);\n",
              "      fill: #174EA6;\n",
              "    }\n",
              "\n",
              "    [theme=dark] .colab-df-convert {\n",
              "      background-color: #3B4455;\n",
              "      fill: #D2E3FC;\n",
              "    }\n",
              "\n",
              "    [theme=dark] .colab-df-convert:hover {\n",
              "      background-color: #434B5C;\n",
              "      box-shadow: 0px 1px 3px 1px rgba(0, 0, 0, 0.15);\n",
              "      filter: drop-shadow(0px 1px 2px rgba(0, 0, 0, 0.3));\n",
              "      fill: #FFFFFF;\n",
              "    }\n",
              "  </style>\n",
              "\n",
              "      <script>\n",
              "        const buttonEl =\n",
              "          document.querySelector('#df-8f6ca2a7-cfb0-421e-8e66-22d6796d04d8 button.colab-df-convert');\n",
              "        buttonEl.style.display =\n",
              "          google.colab.kernel.accessAllowed ? 'block' : 'none';\n",
              "\n",
              "        async function convertToInteractive(key) {\n",
              "          const element = document.querySelector('#df-8f6ca2a7-cfb0-421e-8e66-22d6796d04d8');\n",
              "          const dataTable =\n",
              "            await google.colab.kernel.invokeFunction('convertToInteractive',\n",
              "                                                     [key], {});\n",
              "          if (!dataTable) return;\n",
              "\n",
              "          const docLinkHtml = 'Like what you see? Visit the ' +\n",
              "            '<a target=\"_blank\" href=https://colab.research.google.com/notebooks/data_table.ipynb>data table notebook</a>'\n",
              "            + ' to learn more about interactive tables.';\n",
              "          element.innerHTML = '';\n",
              "          dataTable['output_type'] = 'display_data';\n",
              "          await google.colab.output.renderOutput(dataTable, element);\n",
              "          const docLink = document.createElement('div');\n",
              "          docLink.innerHTML = docLinkHtml;\n",
              "          element.appendChild(docLink);\n",
              "        }\n",
              "      </script>\n",
              "    </div>\n",
              "  </div>\n",
              "  "
            ],
            "text/plain": [
              "   Numero                                       Nombre Corto  \\\n",
              "0    2871                                         Interplaza   \n",
              "1    3739  Interplaza, transferencia y pago con otra tarjeta   \n",
              "2    3262      Pago con cualquier tarjeta (débito o crédito)   \n",
              "3    3428                         Comisión por transferencia   \n",
              "4    4359  Comisión por depósito y retiro de dinero en ve...   \n",
              "5    4360                             Bloqueo de banca móvil   \n",
              "6    4525  Proyecto de Ley 4525 y 4704: Reprogramación de...   \n",
              "7    4704  Proyecto de Ley 4525 y 4704: Reprogramación de...   \n",
              "8    4939                  Compensación en cuentas bancarias   \n",
              "\n",
              "                           Nombre grupo  \\\n",
              "0                  Comisiones Bancarias   \n",
              "1                  Comisiones Bancarias   \n",
              "2                  Comisiones Bancarias   \n",
              "3                  Comisiones Bancarias   \n",
              "4                  Comisiones Bancarias   \n",
              "5                  Comisiones Bancarias   \n",
              "6  Reprogramación de Deudas por Lluvias   \n",
              "7  Reprogramación de Deudas por Lluvias   \n",
              "8               Compensación de Cuentas   \n",
              "\n",
              "                                              enlace  \n",
              "0  https://wb2server.congreso.gob.pe/spley-portal...  \n",
              "1  https://wb2server.congreso.gob.pe/spley-portal...  \n",
              "2  https://wb2server.congreso.gob.pe/spley-portal...  \n",
              "3  https://wb2server.congreso.gob.pe/spley-portal...  \n",
              "4  https://wb2server.congreso.gob.pe/spley-portal...  \n",
              "5  https://wb2server.congreso.gob.pe/spley-portal...  \n",
              "6  https://wb2server.congreso.gob.pe/spley-portal...  \n",
              "7  https://wb2server.congreso.gob.pe/spley-portal...  \n",
              "8  https://wb2server.congreso.gob.pe/spley-portal...  "
            ]
          },
          "execution_count": 282,
          "metadata": {},
          "output_type": "execute_result"
        }
      ],
      "source": [
        "link = 'https://docs.google.com/spreadsheets/d/1unHBIVHSB_oqrtDQb7bNunzPiC_VT_GDXjzRFyTTyXw/edit#gid=0'\n",
        "sheet_index = 0\n",
        "variables2 = open_gsheets(link, sheet_index)\n",
        "variables2"
      ]
    },
    {
      "cell_type": "code",
      "execution_count": null,
      "metadata": {
        "colab": {
          "base_uri": "https://localhost:8080/"
        },
        "id": "FfSoMoBcWnXZ",
        "outputId": "4b994c56-e255-4399-e169-7e59f81c2e98"
      },
      "outputs": [
        {
          "data": {
            "text/plain": [
              "[2871, 3739, 3262, 3428, 4359, 4360, 4525, 4704, 4939]"
            ]
          },
          "execution_count": 283,
          "metadata": {},
          "output_type": "execute_result"
        }
      ],
      "source": [
        "numbers = variables2['Numero'].tolist()\n",
        "numbers"
      ]
    },
    {
      "cell_type": "markdown",
      "metadata": {
        "id": "Me1hIu2JIDOT"
      },
      "source": [
        "### 04 03 Datos congresistas"
      ]
    },
    {
      "cell_type": "code",
      "execution_count": null,
      "metadata": {
        "id": "RaDwfNsrIAL0"
      },
      "outputs": [],
      "source": [
        "link = 'https://docs.google.com/spreadsheets/d/1BAbFMVPSNuHdj5MaUZqLXgLYN8XA27ERrRbvovVrEHY/edit?usp=drive_web&ouid=117333138354521315740'"
      ]
    },
    {
      "cell_type": "code",
      "execution_count": null,
      "metadata": {
        "colab": {
          "base_uri": "https://localhost:8080/",
          "height": 288
        },
        "id": "vmPSBFoVH53y",
        "outputId": "375a3563-9e11-4327-8fa9-cc93b186d931"
      },
      "outputs": [
        {
          "data": {
            "text/html": [
              "\n",
              "  <div id=\"df-2e114775-eaf5-464c-b88d-1bd7941d5116\">\n",
              "    <div class=\"colab-df-container\">\n",
              "      <div>\n",
              "<style scoped>\n",
              "    .dataframe tbody tr th:only-of-type {\n",
              "        vertical-align: middle;\n",
              "    }\n",
              "\n",
              "    .dataframe tbody tr th {\n",
              "        vertical-align: top;\n",
              "    }\n",
              "\n",
              "    .dataframe thead th {\n",
              "        text-align: right;\n",
              "    }\n",
              "</style>\n",
              "<table border=\"1\" class=\"dataframe\">\n",
              "  <thead>\n",
              "    <tr style=\"text-align: right;\">\n",
              "      <th></th>\n",
              "      <th>nombre</th>\n",
              "      <th>votacion</th>\n",
              "      <th>inicio</th>\n",
              "      <th>fin</th>\n",
              "      <th>grupopartido</th>\n",
              "      <th>bancada</th>\n",
              "      <th>representa</th>\n",
              "      <th>condicion</th>\n",
              "      <th>estadoscrap</th>\n",
              "      <th>fecha</th>\n",
              "      <th>enlace</th>\n",
              "    </tr>\n",
              "  </thead>\n",
              "  <tbody>\n",
              "    <tr>\n",
              "      <th>0</th>\n",
              "      <td></td>\n",
              "      <td>109702</td>\n",
              "      <td>27-jul-2011</td>\n",
              "      <td>26-jul-2016</td>\n",
              "      <td>Gana Perú</td>\n",
              "      <td>ACCIÓN POPULAR - FRENTE AMPLIO</td>\n",
              "      <td>LIMA</td>\n",
              "      <td>Fallecido</td>\n",
              "      <td>yes</td>\n",
              "      <td>02/05/2023 3:01:13</td>\n",
              "      <td>1</td>\n",
              "    </tr>\n",
              "    <tr>\n",
              "      <th>1</th>\n",
              "      <td>WALTER ACHA ROMANÍ</td>\n",
              "      <td>15087</td>\n",
              "      <td>27-jul-2011</td>\n",
              "      <td>26-jul-2016</td>\n",
              "      <td>Gana Perú</td>\n",
              "      <td>NO AGRUPADOS</td>\n",
              "      <td>Ayacucho</td>\n",
              "      <td>en Ejercicio</td>\n",
              "      <td>yes</td>\n",
              "      <td>02/05/2023 3:01:18</td>\n",
              "      <td>2</td>\n",
              "    </tr>\n",
              "    <tr>\n",
              "      <th>2</th>\n",
              "      <td>RICHARD FRANK ACUÑA NÚÑEZ</td>\n",
              "      <td>74789</td>\n",
              "      <td>27-jul-2011</td>\n",
              "      <td>26-jul-2016</td>\n",
              "      <td>Alianza por el Gran Cambio</td>\n",
              "      <td>PPC - APP</td>\n",
              "      <td>La libertad</td>\n",
              "      <td>en Ejercicio</td>\n",
              "      <td>yes</td>\n",
              "      <td>02/05/2023 3:01:21</td>\n",
              "      <td>3</td>\n",
              "    </tr>\n",
              "    <tr>\n",
              "      <th>3</th>\n",
              "      <td>VIRGILIO ACUÑA PERALTA</td>\n",
              "      <td>26058</td>\n",
              "      <td>27-jul-2011</td>\n",
              "      <td>26-jul-2016</td>\n",
              "      <td>Alianza Solidaridad Nacional</td>\n",
              "      <td>SOLIDARIDAD NACIONAL</td>\n",
              "      <td>Lambayeque</td>\n",
              "      <td>en Ejercicio</td>\n",
              "      <td>yes</td>\n",
              "      <td>02/05/2023 3:01:24</td>\n",
              "      <td>4</td>\n",
              "    </tr>\n",
              "  </tbody>\n",
              "</table>\n",
              "</div>\n",
              "      <button class=\"colab-df-convert\" onclick=\"convertToInteractive('df-2e114775-eaf5-464c-b88d-1bd7941d5116')\"\n",
              "              title=\"Convert this dataframe to an interactive table.\"\n",
              "              style=\"display:none;\">\n",
              "        \n",
              "  <svg xmlns=\"http://www.w3.org/2000/svg\" height=\"24px\"viewBox=\"0 0 24 24\"\n",
              "       width=\"24px\">\n",
              "    <path d=\"M0 0h24v24H0V0z\" fill=\"none\"/>\n",
              "    <path d=\"M18.56 5.44l.94 2.06.94-2.06 2.06-.94-2.06-.94-.94-2.06-.94 2.06-2.06.94zm-11 1L8.5 8.5l.94-2.06 2.06-.94-2.06-.94L8.5 2.5l-.94 2.06-2.06.94zm10 10l.94 2.06.94-2.06 2.06-.94-2.06-.94-.94-2.06-.94 2.06-2.06.94z\"/><path d=\"M17.41 7.96l-1.37-1.37c-.4-.4-.92-.59-1.43-.59-.52 0-1.04.2-1.43.59L10.3 9.45l-7.72 7.72c-.78.78-.78 2.05 0 2.83L4 21.41c.39.39.9.59 1.41.59.51 0 1.02-.2 1.41-.59l7.78-7.78 2.81-2.81c.8-.78.8-2.07 0-2.86zM5.41 20L4 18.59l7.72-7.72 1.47 1.35L5.41 20z\"/>\n",
              "  </svg>\n",
              "      </button>\n",
              "      \n",
              "  <style>\n",
              "    .colab-df-container {\n",
              "      display:flex;\n",
              "      flex-wrap:wrap;\n",
              "      gap: 12px;\n",
              "    }\n",
              "\n",
              "    .colab-df-convert {\n",
              "      background-color: #E8F0FE;\n",
              "      border: none;\n",
              "      border-radius: 50%;\n",
              "      cursor: pointer;\n",
              "      display: none;\n",
              "      fill: #1967D2;\n",
              "      height: 32px;\n",
              "      padding: 0 0 0 0;\n",
              "      width: 32px;\n",
              "    }\n",
              "\n",
              "    .colab-df-convert:hover {\n",
              "      background-color: #E2EBFA;\n",
              "      box-shadow: 0px 1px 2px rgba(60, 64, 67, 0.3), 0px 1px 3px 1px rgba(60, 64, 67, 0.15);\n",
              "      fill: #174EA6;\n",
              "    }\n",
              "\n",
              "    [theme=dark] .colab-df-convert {\n",
              "      background-color: #3B4455;\n",
              "      fill: #D2E3FC;\n",
              "    }\n",
              "\n",
              "    [theme=dark] .colab-df-convert:hover {\n",
              "      background-color: #434B5C;\n",
              "      box-shadow: 0px 1px 3px 1px rgba(0, 0, 0, 0.15);\n",
              "      filter: drop-shadow(0px 1px 2px rgba(0, 0, 0, 0.3));\n",
              "      fill: #FFFFFF;\n",
              "    }\n",
              "  </style>\n",
              "\n",
              "      <script>\n",
              "        const buttonEl =\n",
              "          document.querySelector('#df-2e114775-eaf5-464c-b88d-1bd7941d5116 button.colab-df-convert');\n",
              "        buttonEl.style.display =\n",
              "          google.colab.kernel.accessAllowed ? 'block' : 'none';\n",
              "\n",
              "        async function convertToInteractive(key) {\n",
              "          const element = document.querySelector('#df-2e114775-eaf5-464c-b88d-1bd7941d5116');\n",
              "          const dataTable =\n",
              "            await google.colab.kernel.invokeFunction('convertToInteractive',\n",
              "                                                     [key], {});\n",
              "          if (!dataTable) return;\n",
              "\n",
              "          const docLinkHtml = 'Like what you see? Visit the ' +\n",
              "            '<a target=\"_blank\" href=https://colab.research.google.com/notebooks/data_table.ipynb>data table notebook</a>'\n",
              "            + ' to learn more about interactive tables.';\n",
              "          element.innerHTML = '';\n",
              "          dataTable['output_type'] = 'display_data';\n",
              "          await google.colab.output.renderOutput(dataTable, element);\n",
              "          const docLink = document.createElement('div');\n",
              "          docLink.innerHTML = docLinkHtml;\n",
              "          element.appendChild(docLink);\n",
              "        }\n",
              "      </script>\n",
              "    </div>\n",
              "  </div>\n",
              "  "
            ],
            "text/plain": [
              "                      nombre votacion       inicio          fin  \\\n",
              "0                              109702  27-jul-2011  26-jul-2016   \n",
              "1         WALTER ACHA ROMANÍ    15087  27-jul-2011  26-jul-2016   \n",
              "2  RICHARD FRANK ACUÑA NÚÑEZ    74789  27-jul-2011  26-jul-2016   \n",
              "3     VIRGILIO ACUÑA PERALTA    26058  27-jul-2011  26-jul-2016   \n",
              "\n",
              "                   grupopartido                         bancada   representa  \\\n",
              "0                     Gana Perú  ACCIÓN POPULAR - FRENTE AMPLIO         LIMA   \n",
              "1                     Gana Perú                    NO AGRUPADOS     Ayacucho   \n",
              "2    Alianza por el Gran Cambio                       PPC - APP  La libertad   \n",
              "3  Alianza Solidaridad Nacional            SOLIDARIDAD NACIONAL   Lambayeque   \n",
              "\n",
              "      condicion estadoscrap               fecha enlace  \n",
              "0     Fallecido         yes  02/05/2023 3:01:13      1  \n",
              "1  en Ejercicio         yes  02/05/2023 3:01:18      2  \n",
              "2  en Ejercicio         yes  02/05/2023 3:01:21      3  \n",
              "3  en Ejercicio         yes  02/05/2023 3:01:24      4  "
            ]
          },
          "execution_count": 285,
          "metadata": {},
          "output_type": "execute_result"
        }
      ],
      "source": [
        "sheet_index = 2\n",
        "datoscongresistas = open_gsheets(link, sheet_index)\n",
        "datoscongresistas.head(4)"
      ]
    },
    {
      "cell_type": "markdown",
      "metadata": {
        "id": "AjkPM4apK_ur"
      },
      "source": [
        "## 05 Scrapping"
      ]
    },
    {
      "cell_type": "code",
      "execution_count": null,
      "metadata": {
        "id": "ouyNlxq2KP3j"
      },
      "outputs": [],
      "source": [
        "var = variables1['var'][variables1['featurestable']=='features'].tolist()\n",
        "path = variables1['path'][variables1['featurestable']=='features']\n",
        "path14 = variables1['path'][13]\n",
        "\n",
        "estadoscrap = []\n",
        "autorlink = []\n",
        "fecha = []\n",
        "enlace = []\n",
        "vars=[]\n",
        "vars = var + ['estadoscrap', 'autorlink', 'fecha', 'enlace']\n",
        "\n",
        "# Convierte a una lista vacía para cada campo de la lista var\n",
        "for i in var:\n",
        "  globals()[str(i)] = []"
      ]
    },
    {
      "cell_type": "code",
      "execution_count": null,
      "metadata": {
        "colab": {
          "base_uri": "https://localhost:8080/"
        },
        "id": "JL9uThntMnvc",
        "outputId": "58a48d99-ab58-48e9-9c8e-0d23d795f65e"
      },
      "outputs": [
        {
          "name": "stdout",
          "output_type": "stream",
          "text": [
            "titulo []\n",
            "periodo []\n",
            "legisla []\n",
            "fechapresenta []\n",
            "proponente []\n",
            "sumilla []\n",
            "observaciones []\n",
            "autor []\n",
            "coautor []\n",
            "adherentes []\n",
            "grupoparla []\n",
            "comisiones []\n",
            "ultimoestado []\n",
            "estadoscrap []\n",
            "autorlink []\n",
            "fecha []\n",
            "enlace []\n"
          ]
        }
      ],
      "source": [
        "# Verificar que se tiene una lista vacía para cada campo\n",
        "for i in vars:\n",
        "  print(i, globals()[str(i)])"
      ]
    },
    {
      "cell_type": "code",
      "execution_count": null,
      "metadata": {
        "colab": {
          "base_uri": "https://localhost:8080/"
        },
        "id": "z9Lcqr1NRE_3",
        "outputId": "b0ff1484-7fad-429f-821f-46d0e64189b8"
      },
      "outputs": [
        {
          "name": "stdout",
          "output_type": "stream",
          "text": [
            "3.10.12 (main, Jun  7 2023, 12:45:35) [GCC 9.4.0]\n"
          ]
        }
      ],
      "source": [
        "import sys\n",
        "print(sys.version)"
      ]
    },
    {
      "cell_type": "code",
      "execution_count": null,
      "metadata": {
        "colab": {
          "base_uri": "https://localhost:8080/"
        },
        "id": "XA_AOeoNRiq1",
        "outputId": "36f1f0f6-5a21-4dd5-c759-d50960b40a4c"
      },
      "outputs": [
        {
          "name": "stdout",
          "output_type": "stream",
          "text": [
            "4.10.0\n"
          ]
        }
      ],
      "source": [
        "import selenium\n",
        "print(selenium.__version__)"
      ]
    },
    {
      "cell_type": "code",
      "execution_count": null,
      "metadata": {
        "colab": {
          "base_uri": "https://localhost:8080/"
        },
        "id": "44Kuge_ITQ1H",
        "outputId": "b52e7770-ae4c-496c-be33-f921f315bda0"
      },
      "outputs": [
        {
          "name": "stdout",
          "output_type": "stream",
          "text": [
            "Requirement already satisfied: selenium in /usr/local/lib/python3.10/dist-packages (4.10.0)\n",
            "Requirement already satisfied: urllib3[socks]<3,>=1.26 in /usr/local/lib/python3.10/dist-packages (from selenium) (1.26.16)\n",
            "Requirement already satisfied: trio~=0.17 in /usr/local/lib/python3.10/dist-packages (from selenium) (0.22.1)\n",
            "Requirement already satisfied: trio-websocket~=0.9 in /usr/local/lib/python3.10/dist-packages (from selenium) (0.10.3)\n",
            "Requirement already satisfied: certifi>=2021.10.8 in /usr/local/lib/python3.10/dist-packages (from selenium) (2023.5.7)\n",
            "Requirement already satisfied: attrs>=20.1.0 in /usr/local/lib/python3.10/dist-packages (from trio~=0.17->selenium) (23.1.0)\n",
            "Requirement already satisfied: sortedcontainers in /usr/local/lib/python3.10/dist-packages (from trio~=0.17->selenium) (2.4.0)\n",
            "Requirement already satisfied: idna in /usr/local/lib/python3.10/dist-packages (from trio~=0.17->selenium) (3.4)\n",
            "Requirement already satisfied: outcome in /usr/local/lib/python3.10/dist-packages (from trio~=0.17->selenium) (1.2.0)\n",
            "Requirement already satisfied: sniffio in /usr/local/lib/python3.10/dist-packages (from trio~=0.17->selenium) (1.3.0)\n",
            "Requirement already satisfied: exceptiongroup>=1.0.0rc9 in /usr/local/lib/python3.10/dist-packages (from trio~=0.17->selenium) (1.1.1)\n",
            "Requirement already satisfied: wsproto>=0.14 in /usr/local/lib/python3.10/dist-packages (from trio-websocket~=0.9->selenium) (1.2.0)\n",
            "Requirement already satisfied: PySocks!=1.5.7,<2.0,>=1.5.6 in /usr/local/lib/python3.10/dist-packages (from urllib3[socks]<3,>=1.26->selenium) (1.7.1)\n",
            "Requirement already satisfied: h11<1,>=0.9.0 in /usr/local/lib/python3.10/dist-packages (from wsproto>=0.14->trio-websocket~=0.9->selenium) (0.14.0)\n"
          ]
        }
      ],
      "source": [
        "pip install -U selenium"
      ]
    },
    {
      "cell_type": "code",
      "execution_count": null,
      "metadata": {
        "colab": {
          "base_uri": "https://localhost:8080/"
        },
        "id": "zH4TiKfGzlPa",
        "outputId": "320a7e34-7151-4d3e-e652-7547c5adf178"
      },
      "outputs": [
        {
          "name": "stdout",
          "output_type": "stream",
          "text": [
            "Requirement already satisfied: webdriver_manager in /usr/local/lib/python3.10/dist-packages (3.8.6)\n",
            "Requirement already satisfied: requests in /usr/local/lib/python3.10/dist-packages (from webdriver_manager) (2.31.0)\n",
            "Requirement already satisfied: python-dotenv in /usr/local/lib/python3.10/dist-packages (from webdriver_manager) (1.0.0)\n",
            "Requirement already satisfied: tqdm in /usr/local/lib/python3.10/dist-packages (from webdriver_manager) (4.65.0)\n",
            "Requirement already satisfied: packaging in /usr/local/lib/python3.10/dist-packages (from webdriver_manager) (23.1)\n",
            "Requirement already satisfied: charset-normalizer<4,>=2 in /usr/local/lib/python3.10/dist-packages (from requests->webdriver_manager) (2.0.12)\n",
            "Requirement already satisfied: idna<4,>=2.5 in /usr/local/lib/python3.10/dist-packages (from requests->webdriver_manager) (3.4)\n",
            "Requirement already satisfied: urllib3<3,>=1.21.1 in /usr/local/lib/python3.10/dist-packages (from requests->webdriver_manager) (1.26.16)\n",
            "Requirement already satisfied: certifi>=2017.4.17 in /usr/local/lib/python3.10/dist-packages (from requests->webdriver_manager) (2023.5.7)\n"
          ]
        }
      ],
      "source": [
        "#pip install webdriver-manage\n",
        "\n",
        "!pip install webdriver_manager"
      ]
    },
    {
      "cell_type": "code",
      "execution_count": null,
      "metadata": {
        "colab": {
          "base_uri": "https://localhost:8080/"
        },
        "id": "GViwNUVu321Z",
        "outputId": "9d5f5c14-05a9-44e4-b4fa-dbbe838f0d3d"
      },
      "outputs": [
        {
          "name": "stdout",
          "output_type": "stream",
          "text": [
            "Reading package lists... Done\n",
            "Building dependency tree       \n",
            "Reading state information... Done\n",
            "chromium-browser is already the newest version (1:85.0.4183.83-0ubuntu0.20.04.3).\n",
            "0 upgraded, 0 newly installed, 0 to remove and 24 not upgraded.\n"
          ]
        },
        {
          "data": {
            "text/plain": []
          },
          "execution_count": 292,
          "metadata": {},
          "output_type": "execute_result"
        }
      ],
      "source": [
        "%%shell\n",
        "sudo apt install chromium-browser"
      ]
    },
    {
      "cell_type": "code",
      "execution_count": null,
      "metadata": {
        "colab": {
          "base_uri": "https://localhost:8080/",
          "height": 380
        },
        "id": "WTR3DxkdN4qO",
        "outputId": "b5f5e214-117d-49b0-bcce-b1b598ef8d88"
      },
      "outputs": [
        {
          "ename": "KeyboardInterrupt",
          "evalue": "ignored",
          "output_type": "error",
          "traceback": [
            "\u001b[0;31m---------------------------------------------------------------------------\u001b[0m",
            "\u001b[0;31mKeyboardInterrupt\u001b[0m                         Traceback (most recent call last)",
            "\u001b[0;32m<ipython-input-293-2370325b97d4>\u001b[0m in \u001b[0;36m<cell line: 33>\u001b[0;34m()\u001b[0m\n\u001b[1;32m     31\u001b[0m \u001b[0mprofile\u001b[0m \u001b[0;34m=\u001b[0m \u001b[0mprofiles\u001b[0m\u001b[0;34m.\u001b[0m\u001b[0mWindows\u001b[0m\u001b[0;34m(\u001b[0m\u001b[0;34m)\u001b[0m\u001b[0;34m\u001b[0m\u001b[0;34m\u001b[0m\u001b[0m\n\u001b[1;32m     32\u001b[0m \u001b[0;34m\u001b[0m\u001b[0m\n\u001b[0;32m---> 33\u001b[0;31m \u001b[0mdriver\u001b[0m \u001b[0;34m=\u001b[0m \u001b[0mwebdriver\u001b[0m\u001b[0;34m.\u001b[0m\u001b[0mChrome\u001b[0m\u001b[0;34m(\u001b[0m\u001b[0mservice\u001b[0m\u001b[0;34m=\u001b[0m\u001b[0mService\u001b[0m\u001b[0;34m(\u001b[0m\u001b[0mChromeDriverManager\u001b[0m\u001b[0;34m(\u001b[0m\u001b[0mversion\u001b[0m\u001b[0;34m=\u001b[0m\u001b[0;34m\"90.0.4430.24\"\u001b[0m\u001b[0;34m)\u001b[0m\u001b[0;34m.\u001b[0m\u001b[0minstall\u001b[0m\u001b[0;34m(\u001b[0m\u001b[0;34m)\u001b[0m\u001b[0;34m)\u001b[0m\u001b[0;34m,\u001b[0m \u001b[0moptions\u001b[0m\u001b[0;34m=\u001b[0m\u001b[0moptions\u001b[0m\u001b[0;34m)\u001b[0m\u001b[0;34m\u001b[0m\u001b[0;34m\u001b[0m\u001b[0m\n\u001b[0m\u001b[1;32m     34\u001b[0m \u001b[0;34m\u001b[0m\u001b[0m\n\u001b[1;32m     35\u001b[0m \u001b[0;31m#\u001b[0m\u001b[0;34m\u001b[0m\u001b[0;34m\u001b[0m\u001b[0m\n",
            "\u001b[0;32m/usr/local/lib/python3.10/dist-packages/selenium/webdriver/chrome/webdriver.py\u001b[0m in \u001b[0;36m__init__\u001b[0;34m(self, options, service, keep_alive)\u001b[0m\n\u001b[1;32m     47\u001b[0m         \u001b[0mself\u001b[0m\u001b[0;34m.\u001b[0m\u001b[0mservice\u001b[0m\u001b[0;34m.\u001b[0m\u001b[0mpath\u001b[0m \u001b[0;34m=\u001b[0m \u001b[0mDriverFinder\u001b[0m\u001b[0;34m.\u001b[0m\u001b[0mget_path\u001b[0m\u001b[0;34m(\u001b[0m\u001b[0mself\u001b[0m\u001b[0;34m.\u001b[0m\u001b[0mservice\u001b[0m\u001b[0;34m,\u001b[0m \u001b[0mself\u001b[0m\u001b[0;34m.\u001b[0m\u001b[0moptions\u001b[0m\u001b[0;34m)\u001b[0m\u001b[0;34m\u001b[0m\u001b[0;34m\u001b[0m\u001b[0m\n\u001b[1;32m     48\u001b[0m \u001b[0;34m\u001b[0m\u001b[0m\n\u001b[0;32m---> 49\u001b[0;31m         super().__init__(\n\u001b[0m\u001b[1;32m     50\u001b[0m             \u001b[0mDesiredCapabilities\u001b[0m\u001b[0;34m.\u001b[0m\u001b[0mCHROME\u001b[0m\u001b[0;34m[\u001b[0m\u001b[0;34m\"browserName\"\u001b[0m\u001b[0;34m]\u001b[0m\u001b[0;34m,\u001b[0m\u001b[0;34m\u001b[0m\u001b[0;34m\u001b[0m\u001b[0m\n\u001b[1;32m     51\u001b[0m             \u001b[0;34m\"goog\"\u001b[0m\u001b[0;34m,\u001b[0m\u001b[0;34m\u001b[0m\u001b[0;34m\u001b[0m\u001b[0m\n",
            "\u001b[0;32m/usr/local/lib/python3.10/dist-packages/selenium/webdriver/chromium/webdriver.py\u001b[0m in \u001b[0;36m__init__\u001b[0;34m(self, browser_name, vendor_prefix, options, service, keep_alive)\u001b[0m\n\u001b[1;32m     52\u001b[0m \u001b[0;34m\u001b[0m\u001b[0m\n\u001b[1;32m     53\u001b[0m         \u001b[0;32mtry\u001b[0m\u001b[0;34m:\u001b[0m\u001b[0;34m\u001b[0m\u001b[0;34m\u001b[0m\u001b[0m\n\u001b[0;32m---> 54\u001b[0;31m             super().__init__(\n\u001b[0m\u001b[1;32m     55\u001b[0m                 command_executor=ChromiumRemoteConnection(\n\u001b[1;32m     56\u001b[0m                     \u001b[0mremote_server_addr\u001b[0m\u001b[0;34m=\u001b[0m\u001b[0mself\u001b[0m\u001b[0;34m.\u001b[0m\u001b[0mservice\u001b[0m\u001b[0;34m.\u001b[0m\u001b[0mservice_url\u001b[0m\u001b[0;34m,\u001b[0m\u001b[0;34m\u001b[0m\u001b[0;34m\u001b[0m\u001b[0m\n",
            "\u001b[0;32m/usr/local/lib/python3.10/dist-packages/selenium/webdriver/remote/webdriver.py\u001b[0m in \u001b[0;36m__init__\u001b[0;34m(self, command_executor, keep_alive, file_detector, options)\u001b[0m\n\u001b[1;32m    204\u001b[0m         \u001b[0mself\u001b[0m\u001b[0;34m.\u001b[0m\u001b[0m_authenticator_id\u001b[0m \u001b[0;34m=\u001b[0m \u001b[0;32mNone\u001b[0m\u001b[0;34m\u001b[0m\u001b[0;34m\u001b[0m\u001b[0m\n\u001b[1;32m    205\u001b[0m         \u001b[0mself\u001b[0m\u001b[0;34m.\u001b[0m\u001b[0mstart_client\u001b[0m\u001b[0;34m(\u001b[0m\u001b[0;34m)\u001b[0m\u001b[0;34m\u001b[0m\u001b[0;34m\u001b[0m\u001b[0m\n\u001b[0;32m--> 206\u001b[0;31m         \u001b[0mself\u001b[0m\u001b[0;34m.\u001b[0m\u001b[0mstart_session\u001b[0m\u001b[0;34m(\u001b[0m\u001b[0mcapabilities\u001b[0m\u001b[0;34m)\u001b[0m\u001b[0;34m\u001b[0m\u001b[0;34m\u001b[0m\u001b[0m\n\u001b[0m\u001b[1;32m    207\u001b[0m \u001b[0;34m\u001b[0m\u001b[0m\n\u001b[1;32m    208\u001b[0m     \u001b[0;32mdef\u001b[0m \u001b[0m__repr__\u001b[0m\u001b[0;34m(\u001b[0m\u001b[0mself\u001b[0m\u001b[0;34m)\u001b[0m\u001b[0;34m:\u001b[0m\u001b[0;34m\u001b[0m\u001b[0;34m\u001b[0m\u001b[0m\n",
            "\u001b[0;32m/usr/local/lib/python3.10/dist-packages/selenium/webdriver/remote/webdriver.py\u001b[0m in \u001b[0;36mstart_session\u001b[0;34m(self, capabilities)\u001b[0m\n\u001b[1;32m    289\u001b[0m \u001b[0;34m\u001b[0m\u001b[0m\n\u001b[1;32m    290\u001b[0m         \u001b[0mcaps\u001b[0m \u001b[0;34m=\u001b[0m \u001b[0m_create_caps\u001b[0m\u001b[0;34m(\u001b[0m\u001b[0mcapabilities\u001b[0m\u001b[0;34m)\u001b[0m\u001b[0;34m\u001b[0m\u001b[0;34m\u001b[0m\u001b[0m\n\u001b[0;32m--> 291\u001b[0;31m         \u001b[0mresponse\u001b[0m \u001b[0;34m=\u001b[0m \u001b[0mself\u001b[0m\u001b[0;34m.\u001b[0m\u001b[0mexecute\u001b[0m\u001b[0;34m(\u001b[0m\u001b[0mCommand\u001b[0m\u001b[0;34m.\u001b[0m\u001b[0mNEW_SESSION\u001b[0m\u001b[0;34m,\u001b[0m \u001b[0mcaps\u001b[0m\u001b[0;34m)\u001b[0m\u001b[0;34m[\u001b[0m\u001b[0;34m\"value\"\u001b[0m\u001b[0;34m]\u001b[0m\u001b[0;34m\u001b[0m\u001b[0;34m\u001b[0m\u001b[0m\n\u001b[0m\u001b[1;32m    292\u001b[0m         \u001b[0mself\u001b[0m\u001b[0;34m.\u001b[0m\u001b[0msession_id\u001b[0m \u001b[0;34m=\u001b[0m \u001b[0mresponse\u001b[0m\u001b[0;34m.\u001b[0m\u001b[0mget\u001b[0m\u001b[0;34m(\u001b[0m\u001b[0;34m\"sessionId\"\u001b[0m\u001b[0;34m)\u001b[0m\u001b[0;34m\u001b[0m\u001b[0;34m\u001b[0m\u001b[0m\n\u001b[1;32m    293\u001b[0m         \u001b[0mself\u001b[0m\u001b[0;34m.\u001b[0m\u001b[0mcaps\u001b[0m \u001b[0;34m=\u001b[0m \u001b[0mresponse\u001b[0m\u001b[0;34m.\u001b[0m\u001b[0mget\u001b[0m\u001b[0;34m(\u001b[0m\u001b[0;34m\"capabilities\"\u001b[0m\u001b[0;34m)\u001b[0m\u001b[0;34m\u001b[0m\u001b[0;34m\u001b[0m\u001b[0m\n",
            "\u001b[0;32m/usr/local/lib/python3.10/dist-packages/selenium/webdriver/remote/webdriver.py\u001b[0m in \u001b[0;36mexecute\u001b[0;34m(self, driver_command, params)\u001b[0m\n\u001b[1;32m    342\u001b[0m                 \u001b[0mparams\u001b[0m\u001b[0;34m[\u001b[0m\u001b[0;34m\"sessionId\"\u001b[0m\u001b[0;34m]\u001b[0m \u001b[0;34m=\u001b[0m \u001b[0mself\u001b[0m\u001b[0;34m.\u001b[0m\u001b[0msession_id\u001b[0m\u001b[0;34m\u001b[0m\u001b[0;34m\u001b[0m\u001b[0m\n\u001b[1;32m    343\u001b[0m \u001b[0;34m\u001b[0m\u001b[0m\n\u001b[0;32m--> 344\u001b[0;31m         \u001b[0mresponse\u001b[0m \u001b[0;34m=\u001b[0m \u001b[0mself\u001b[0m\u001b[0;34m.\u001b[0m\u001b[0mcommand_executor\u001b[0m\u001b[0;34m.\u001b[0m\u001b[0mexecute\u001b[0m\u001b[0;34m(\u001b[0m\u001b[0mdriver_command\u001b[0m\u001b[0;34m,\u001b[0m \u001b[0mparams\u001b[0m\u001b[0;34m)\u001b[0m\u001b[0;34m\u001b[0m\u001b[0;34m\u001b[0m\u001b[0m\n\u001b[0m\u001b[1;32m    345\u001b[0m         \u001b[0;32mif\u001b[0m \u001b[0mresponse\u001b[0m\u001b[0;34m:\u001b[0m\u001b[0;34m\u001b[0m\u001b[0;34m\u001b[0m\u001b[0m\n\u001b[1;32m    346\u001b[0m             \u001b[0mself\u001b[0m\u001b[0;34m.\u001b[0m\u001b[0merror_handler\u001b[0m\u001b[0;34m.\u001b[0m\u001b[0mcheck_response\u001b[0m\u001b[0;34m(\u001b[0m\u001b[0mresponse\u001b[0m\u001b[0;34m)\u001b[0m\u001b[0;34m\u001b[0m\u001b[0;34m\u001b[0m\u001b[0m\n",
            "\u001b[0;32m/usr/local/lib/python3.10/dist-packages/selenium/webdriver/remote/remote_connection.py\u001b[0m in \u001b[0;36mexecute\u001b[0;34m(self, command, params)\u001b[0m\n\u001b[1;32m    288\u001b[0m         \u001b[0mdata\u001b[0m \u001b[0;34m=\u001b[0m \u001b[0mutils\u001b[0m\u001b[0;34m.\u001b[0m\u001b[0mdump_json\u001b[0m\u001b[0;34m(\u001b[0m\u001b[0mparams\u001b[0m\u001b[0;34m)\u001b[0m\u001b[0;34m\u001b[0m\u001b[0;34m\u001b[0m\u001b[0m\n\u001b[1;32m    289\u001b[0m         \u001b[0murl\u001b[0m \u001b[0;34m=\u001b[0m \u001b[0;34mf\"{self._url}{path}\"\u001b[0m\u001b[0;34m\u001b[0m\u001b[0;34m\u001b[0m\u001b[0m\n\u001b[0;32m--> 290\u001b[0;31m         \u001b[0;32mreturn\u001b[0m \u001b[0mself\u001b[0m\u001b[0;34m.\u001b[0m\u001b[0m_request\u001b[0m\u001b[0;34m(\u001b[0m\u001b[0mcommand_info\u001b[0m\u001b[0;34m[\u001b[0m\u001b[0;36m0\u001b[0m\u001b[0;34m]\u001b[0m\u001b[0;34m,\u001b[0m \u001b[0murl\u001b[0m\u001b[0;34m,\u001b[0m \u001b[0mbody\u001b[0m\u001b[0;34m=\u001b[0m\u001b[0mdata\u001b[0m\u001b[0;34m)\u001b[0m\u001b[0;34m\u001b[0m\u001b[0;34m\u001b[0m\u001b[0m\n\u001b[0m\u001b[1;32m    291\u001b[0m \u001b[0;34m\u001b[0m\u001b[0m\n\u001b[1;32m    292\u001b[0m     \u001b[0;32mdef\u001b[0m \u001b[0m_request\u001b[0m\u001b[0;34m(\u001b[0m\u001b[0mself\u001b[0m\u001b[0;34m,\u001b[0m \u001b[0mmethod\u001b[0m\u001b[0;34m,\u001b[0m \u001b[0murl\u001b[0m\u001b[0;34m,\u001b[0m \u001b[0mbody\u001b[0m\u001b[0;34m=\u001b[0m\u001b[0;32mNone\u001b[0m\u001b[0;34m)\u001b[0m\u001b[0;34m:\u001b[0m\u001b[0;34m\u001b[0m\u001b[0;34m\u001b[0m\u001b[0m\n",
            "\u001b[0;32m/usr/local/lib/python3.10/dist-packages/selenium/webdriver/remote/remote_connection.py\u001b[0m in \u001b[0;36m_request\u001b[0;34m(self, method, url, body)\u001b[0m\n\u001b[1;32m    309\u001b[0m \u001b[0;34m\u001b[0m\u001b[0m\n\u001b[1;32m    310\u001b[0m         \u001b[0;32mif\u001b[0m \u001b[0mself\u001b[0m\u001b[0;34m.\u001b[0m\u001b[0mkeep_alive\u001b[0m\u001b[0;34m:\u001b[0m\u001b[0;34m\u001b[0m\u001b[0;34m\u001b[0m\u001b[0m\n\u001b[0;32m--> 311\u001b[0;31m             \u001b[0mresponse\u001b[0m \u001b[0;34m=\u001b[0m \u001b[0mself\u001b[0m\u001b[0;34m.\u001b[0m\u001b[0m_conn\u001b[0m\u001b[0;34m.\u001b[0m\u001b[0mrequest\u001b[0m\u001b[0;34m(\u001b[0m\u001b[0mmethod\u001b[0m\u001b[0;34m,\u001b[0m \u001b[0murl\u001b[0m\u001b[0;34m,\u001b[0m \u001b[0mbody\u001b[0m\u001b[0;34m=\u001b[0m\u001b[0mbody\u001b[0m\u001b[0;34m,\u001b[0m \u001b[0mheaders\u001b[0m\u001b[0;34m=\u001b[0m\u001b[0mheaders\u001b[0m\u001b[0;34m)\u001b[0m\u001b[0;34m\u001b[0m\u001b[0;34m\u001b[0m\u001b[0m\n\u001b[0m\u001b[1;32m    312\u001b[0m             \u001b[0mstatuscode\u001b[0m \u001b[0;34m=\u001b[0m \u001b[0mresponse\u001b[0m\u001b[0;34m.\u001b[0m\u001b[0mstatus\u001b[0m\u001b[0;34m\u001b[0m\u001b[0;34m\u001b[0m\u001b[0m\n\u001b[1;32m    313\u001b[0m         \u001b[0;32melse\u001b[0m\u001b[0;34m:\u001b[0m\u001b[0;34m\u001b[0m\u001b[0;34m\u001b[0m\u001b[0m\n",
            "\u001b[0;32m/usr/local/lib/python3.10/dist-packages/urllib3/request.py\u001b[0m in \u001b[0;36mrequest\u001b[0;34m(self, method, url, fields, headers, **urlopen_kw)\u001b[0m\n\u001b[1;32m     76\u001b[0m             )\n\u001b[1;32m     77\u001b[0m         \u001b[0;32melse\u001b[0m\u001b[0;34m:\u001b[0m\u001b[0;34m\u001b[0m\u001b[0;34m\u001b[0m\u001b[0m\n\u001b[0;32m---> 78\u001b[0;31m             return self.request_encode_body(\n\u001b[0m\u001b[1;32m     79\u001b[0m                 \u001b[0mmethod\u001b[0m\u001b[0;34m,\u001b[0m \u001b[0murl\u001b[0m\u001b[0;34m,\u001b[0m \u001b[0mfields\u001b[0m\u001b[0;34m=\u001b[0m\u001b[0mfields\u001b[0m\u001b[0;34m,\u001b[0m \u001b[0mheaders\u001b[0m\u001b[0;34m=\u001b[0m\u001b[0mheaders\u001b[0m\u001b[0;34m,\u001b[0m \u001b[0;34m**\u001b[0m\u001b[0murlopen_kw\u001b[0m\u001b[0;34m\u001b[0m\u001b[0;34m\u001b[0m\u001b[0m\n\u001b[1;32m     80\u001b[0m             )\n",
            "\u001b[0;32m/usr/local/lib/python3.10/dist-packages/urllib3/request.py\u001b[0m in \u001b[0;36mrequest_encode_body\u001b[0;34m(self, method, url, fields, headers, encode_multipart, multipart_boundary, **urlopen_kw)\u001b[0m\n\u001b[1;32m    168\u001b[0m         \u001b[0mextra_kw\u001b[0m\u001b[0;34m.\u001b[0m\u001b[0mupdate\u001b[0m\u001b[0;34m(\u001b[0m\u001b[0murlopen_kw\u001b[0m\u001b[0;34m)\u001b[0m\u001b[0;34m\u001b[0m\u001b[0;34m\u001b[0m\u001b[0m\n\u001b[1;32m    169\u001b[0m \u001b[0;34m\u001b[0m\u001b[0m\n\u001b[0;32m--> 170\u001b[0;31m         \u001b[0;32mreturn\u001b[0m \u001b[0mself\u001b[0m\u001b[0;34m.\u001b[0m\u001b[0murlopen\u001b[0m\u001b[0;34m(\u001b[0m\u001b[0mmethod\u001b[0m\u001b[0;34m,\u001b[0m \u001b[0murl\u001b[0m\u001b[0;34m,\u001b[0m \u001b[0;34m**\u001b[0m\u001b[0mextra_kw\u001b[0m\u001b[0;34m)\u001b[0m\u001b[0;34m\u001b[0m\u001b[0;34m\u001b[0m\u001b[0m\n\u001b[0m",
            "\u001b[0;32m/usr/local/lib/python3.10/dist-packages/urllib3/poolmanager.py\u001b[0m in \u001b[0;36murlopen\u001b[0;34m(self, method, url, redirect, **kw)\u001b[0m\n\u001b[1;32m    374\u001b[0m             \u001b[0mresponse\u001b[0m \u001b[0;34m=\u001b[0m \u001b[0mconn\u001b[0m\u001b[0;34m.\u001b[0m\u001b[0murlopen\u001b[0m\u001b[0;34m(\u001b[0m\u001b[0mmethod\u001b[0m\u001b[0;34m,\u001b[0m \u001b[0murl\u001b[0m\u001b[0;34m,\u001b[0m \u001b[0;34m**\u001b[0m\u001b[0mkw\u001b[0m\u001b[0;34m)\u001b[0m\u001b[0;34m\u001b[0m\u001b[0;34m\u001b[0m\u001b[0m\n\u001b[1;32m    375\u001b[0m         \u001b[0;32melse\u001b[0m\u001b[0;34m:\u001b[0m\u001b[0;34m\u001b[0m\u001b[0;34m\u001b[0m\u001b[0m\n\u001b[0;32m--> 376\u001b[0;31m             \u001b[0mresponse\u001b[0m \u001b[0;34m=\u001b[0m \u001b[0mconn\u001b[0m\u001b[0;34m.\u001b[0m\u001b[0murlopen\u001b[0m\u001b[0;34m(\u001b[0m\u001b[0mmethod\u001b[0m\u001b[0;34m,\u001b[0m \u001b[0mu\u001b[0m\u001b[0;34m.\u001b[0m\u001b[0mrequest_uri\u001b[0m\u001b[0;34m,\u001b[0m \u001b[0;34m**\u001b[0m\u001b[0mkw\u001b[0m\u001b[0;34m)\u001b[0m\u001b[0;34m\u001b[0m\u001b[0;34m\u001b[0m\u001b[0m\n\u001b[0m\u001b[1;32m    377\u001b[0m \u001b[0;34m\u001b[0m\u001b[0m\n\u001b[1;32m    378\u001b[0m         \u001b[0mredirect_location\u001b[0m \u001b[0;34m=\u001b[0m \u001b[0mredirect\u001b[0m \u001b[0;32mand\u001b[0m \u001b[0mresponse\u001b[0m\u001b[0;34m.\u001b[0m\u001b[0mget_redirect_location\u001b[0m\u001b[0;34m(\u001b[0m\u001b[0;34m)\u001b[0m\u001b[0;34m\u001b[0m\u001b[0;34m\u001b[0m\u001b[0m\n",
            "\u001b[0;32m/usr/local/lib/python3.10/dist-packages/urllib3/connectionpool.py\u001b[0m in \u001b[0;36murlopen\u001b[0;34m(self, method, url, body, headers, retries, redirect, assert_same_host, timeout, pool_timeout, release_conn, chunked, body_pos, **response_kw)\u001b[0m\n\u001b[1;32m    712\u001b[0m \u001b[0;34m\u001b[0m\u001b[0m\n\u001b[1;32m    713\u001b[0m             \u001b[0;31m# Make the request on the httplib connection object.\u001b[0m\u001b[0;34m\u001b[0m\u001b[0;34m\u001b[0m\u001b[0m\n\u001b[0;32m--> 714\u001b[0;31m             httplib_response = self._make_request(\n\u001b[0m\u001b[1;32m    715\u001b[0m                 \u001b[0mconn\u001b[0m\u001b[0;34m,\u001b[0m\u001b[0;34m\u001b[0m\u001b[0;34m\u001b[0m\u001b[0m\n\u001b[1;32m    716\u001b[0m                 \u001b[0mmethod\u001b[0m\u001b[0;34m,\u001b[0m\u001b[0;34m\u001b[0m\u001b[0;34m\u001b[0m\u001b[0m\n",
            "\u001b[0;32m/usr/local/lib/python3.10/dist-packages/urllib3/connectionpool.py\u001b[0m in \u001b[0;36m_make_request\u001b[0;34m(self, conn, method, url, timeout, chunked, **httplib_request_kw)\u001b[0m\n\u001b[1;32m    464\u001b[0m                     \u001b[0;31m# Python 3 (including for exceptions like SystemExit).\u001b[0m\u001b[0;34m\u001b[0m\u001b[0;34m\u001b[0m\u001b[0m\n\u001b[1;32m    465\u001b[0m                     \u001b[0;31m# Otherwise it looks like a bug in the code.\u001b[0m\u001b[0;34m\u001b[0m\u001b[0;34m\u001b[0m\u001b[0m\n\u001b[0;32m--> 466\u001b[0;31m                     \u001b[0msix\u001b[0m\u001b[0;34m.\u001b[0m\u001b[0mraise_from\u001b[0m\u001b[0;34m(\u001b[0m\u001b[0me\u001b[0m\u001b[0;34m,\u001b[0m \u001b[0;32mNone\u001b[0m\u001b[0;34m)\u001b[0m\u001b[0;34m\u001b[0m\u001b[0;34m\u001b[0m\u001b[0m\n\u001b[0m\u001b[1;32m    467\u001b[0m         \u001b[0;32mexcept\u001b[0m \u001b[0;34m(\u001b[0m\u001b[0mSocketTimeout\u001b[0m\u001b[0;34m,\u001b[0m \u001b[0mBaseSSLError\u001b[0m\u001b[0;34m,\u001b[0m \u001b[0mSocketError\u001b[0m\u001b[0;34m)\u001b[0m \u001b[0;32mas\u001b[0m \u001b[0me\u001b[0m\u001b[0;34m:\u001b[0m\u001b[0;34m\u001b[0m\u001b[0;34m\u001b[0m\u001b[0m\n\u001b[1;32m    468\u001b[0m             \u001b[0mself\u001b[0m\u001b[0;34m.\u001b[0m\u001b[0m_raise_timeout\u001b[0m\u001b[0;34m(\u001b[0m\u001b[0merr\u001b[0m\u001b[0;34m=\u001b[0m\u001b[0me\u001b[0m\u001b[0;34m,\u001b[0m \u001b[0murl\u001b[0m\u001b[0;34m=\u001b[0m\u001b[0murl\u001b[0m\u001b[0;34m,\u001b[0m \u001b[0mtimeout_value\u001b[0m\u001b[0;34m=\u001b[0m\u001b[0mread_timeout\u001b[0m\u001b[0;34m)\u001b[0m\u001b[0;34m\u001b[0m\u001b[0;34m\u001b[0m\u001b[0m\n",
            "\u001b[0;32m/usr/local/lib/python3.10/dist-packages/urllib3/packages/six.py\u001b[0m in \u001b[0;36mraise_from\u001b[0;34m(value, from_value)\u001b[0m\n",
            "\u001b[0;32m/usr/local/lib/python3.10/dist-packages/urllib3/connectionpool.py\u001b[0m in \u001b[0;36m_make_request\u001b[0;34m(self, conn, method, url, timeout, chunked, **httplib_request_kw)\u001b[0m\n\u001b[1;32m    459\u001b[0m                 \u001b[0;31m# Python 3\u001b[0m\u001b[0;34m\u001b[0m\u001b[0;34m\u001b[0m\u001b[0m\n\u001b[1;32m    460\u001b[0m                 \u001b[0;32mtry\u001b[0m\u001b[0;34m:\u001b[0m\u001b[0;34m\u001b[0m\u001b[0;34m\u001b[0m\u001b[0m\n\u001b[0;32m--> 461\u001b[0;31m                     \u001b[0mhttplib_response\u001b[0m \u001b[0;34m=\u001b[0m \u001b[0mconn\u001b[0m\u001b[0;34m.\u001b[0m\u001b[0mgetresponse\u001b[0m\u001b[0;34m(\u001b[0m\u001b[0;34m)\u001b[0m\u001b[0;34m\u001b[0m\u001b[0;34m\u001b[0m\u001b[0m\n\u001b[0m\u001b[1;32m    462\u001b[0m                 \u001b[0;32mexcept\u001b[0m \u001b[0mBaseException\u001b[0m \u001b[0;32mas\u001b[0m \u001b[0me\u001b[0m\u001b[0;34m:\u001b[0m\u001b[0;34m\u001b[0m\u001b[0;34m\u001b[0m\u001b[0m\n\u001b[1;32m    463\u001b[0m                     \u001b[0;31m# Remove the TypeError from the exception chain in\u001b[0m\u001b[0;34m\u001b[0m\u001b[0;34m\u001b[0m\u001b[0m\n",
            "\u001b[0;32m/usr/lib/python3.10/http/client.py\u001b[0m in \u001b[0;36mgetresponse\u001b[0;34m(self)\u001b[0m\n\u001b[1;32m   1373\u001b[0m         \u001b[0;32mtry\u001b[0m\u001b[0;34m:\u001b[0m\u001b[0;34m\u001b[0m\u001b[0;34m\u001b[0m\u001b[0m\n\u001b[1;32m   1374\u001b[0m             \u001b[0;32mtry\u001b[0m\u001b[0;34m:\u001b[0m\u001b[0;34m\u001b[0m\u001b[0;34m\u001b[0m\u001b[0m\n\u001b[0;32m-> 1375\u001b[0;31m                 \u001b[0mresponse\u001b[0m\u001b[0;34m.\u001b[0m\u001b[0mbegin\u001b[0m\u001b[0;34m(\u001b[0m\u001b[0;34m)\u001b[0m\u001b[0;34m\u001b[0m\u001b[0;34m\u001b[0m\u001b[0m\n\u001b[0m\u001b[1;32m   1376\u001b[0m             \u001b[0;32mexcept\u001b[0m \u001b[0mConnectionError\u001b[0m\u001b[0;34m:\u001b[0m\u001b[0;34m\u001b[0m\u001b[0;34m\u001b[0m\u001b[0m\n\u001b[1;32m   1377\u001b[0m                 \u001b[0mself\u001b[0m\u001b[0;34m.\u001b[0m\u001b[0mclose\u001b[0m\u001b[0;34m(\u001b[0m\u001b[0;34m)\u001b[0m\u001b[0;34m\u001b[0m\u001b[0;34m\u001b[0m\u001b[0m\n",
            "\u001b[0;32m/usr/lib/python3.10/http/client.py\u001b[0m in \u001b[0;36mbegin\u001b[0;34m(self)\u001b[0m\n\u001b[1;32m    316\u001b[0m         \u001b[0;31m# read until we get a non-100 response\u001b[0m\u001b[0;34m\u001b[0m\u001b[0;34m\u001b[0m\u001b[0m\n\u001b[1;32m    317\u001b[0m         \u001b[0;32mwhile\u001b[0m \u001b[0;32mTrue\u001b[0m\u001b[0;34m:\u001b[0m\u001b[0;34m\u001b[0m\u001b[0;34m\u001b[0m\u001b[0m\n\u001b[0;32m--> 318\u001b[0;31m             \u001b[0mversion\u001b[0m\u001b[0;34m,\u001b[0m \u001b[0mstatus\u001b[0m\u001b[0;34m,\u001b[0m \u001b[0mreason\u001b[0m \u001b[0;34m=\u001b[0m \u001b[0mself\u001b[0m\u001b[0;34m.\u001b[0m\u001b[0m_read_status\u001b[0m\u001b[0;34m(\u001b[0m\u001b[0;34m)\u001b[0m\u001b[0;34m\u001b[0m\u001b[0;34m\u001b[0m\u001b[0m\n\u001b[0m\u001b[1;32m    319\u001b[0m             \u001b[0;32mif\u001b[0m \u001b[0mstatus\u001b[0m \u001b[0;34m!=\u001b[0m \u001b[0mCONTINUE\u001b[0m\u001b[0;34m:\u001b[0m\u001b[0;34m\u001b[0m\u001b[0;34m\u001b[0m\u001b[0m\n\u001b[1;32m    320\u001b[0m                 \u001b[0;32mbreak\u001b[0m\u001b[0;34m\u001b[0m\u001b[0;34m\u001b[0m\u001b[0m\n",
            "\u001b[0;32m/usr/lib/python3.10/http/client.py\u001b[0m in \u001b[0;36m_read_status\u001b[0;34m(self)\u001b[0m\n\u001b[1;32m    277\u001b[0m \u001b[0;34m\u001b[0m\u001b[0m\n\u001b[1;32m    278\u001b[0m     \u001b[0;32mdef\u001b[0m \u001b[0m_read_status\u001b[0m\u001b[0;34m(\u001b[0m\u001b[0mself\u001b[0m\u001b[0;34m)\u001b[0m\u001b[0;34m:\u001b[0m\u001b[0;34m\u001b[0m\u001b[0;34m\u001b[0m\u001b[0m\n\u001b[0;32m--> 279\u001b[0;31m         \u001b[0mline\u001b[0m \u001b[0;34m=\u001b[0m \u001b[0mstr\u001b[0m\u001b[0;34m(\u001b[0m\u001b[0mself\u001b[0m\u001b[0;34m.\u001b[0m\u001b[0mfp\u001b[0m\u001b[0;34m.\u001b[0m\u001b[0mreadline\u001b[0m\u001b[0;34m(\u001b[0m\u001b[0m_MAXLINE\u001b[0m \u001b[0;34m+\u001b[0m \u001b[0;36m1\u001b[0m\u001b[0;34m)\u001b[0m\u001b[0;34m,\u001b[0m \u001b[0;34m\"iso-8859-1\"\u001b[0m\u001b[0;34m)\u001b[0m\u001b[0;34m\u001b[0m\u001b[0;34m\u001b[0m\u001b[0m\n\u001b[0m\u001b[1;32m    280\u001b[0m         \u001b[0;32mif\u001b[0m \u001b[0mlen\u001b[0m\u001b[0;34m(\u001b[0m\u001b[0mline\u001b[0m\u001b[0;34m)\u001b[0m \u001b[0;34m>\u001b[0m \u001b[0m_MAXLINE\u001b[0m\u001b[0;34m:\u001b[0m\u001b[0;34m\u001b[0m\u001b[0;34m\u001b[0m\u001b[0m\n\u001b[1;32m    281\u001b[0m             \u001b[0;32mraise\u001b[0m \u001b[0mLineTooLong\u001b[0m\u001b[0;34m(\u001b[0m\u001b[0;34m\"status line\"\u001b[0m\u001b[0;34m)\u001b[0m\u001b[0;34m\u001b[0m\u001b[0;34m\u001b[0m\u001b[0m\n",
            "\u001b[0;32m/usr/lib/python3.10/socket.py\u001b[0m in \u001b[0;36mreadinto\u001b[0;34m(self, b)\u001b[0m\n\u001b[1;32m    703\u001b[0m         \u001b[0;32mwhile\u001b[0m \u001b[0;32mTrue\u001b[0m\u001b[0;34m:\u001b[0m\u001b[0;34m\u001b[0m\u001b[0;34m\u001b[0m\u001b[0m\n\u001b[1;32m    704\u001b[0m             \u001b[0;32mtry\u001b[0m\u001b[0;34m:\u001b[0m\u001b[0;34m\u001b[0m\u001b[0;34m\u001b[0m\u001b[0m\n\u001b[0;32m--> 705\u001b[0;31m                 \u001b[0;32mreturn\u001b[0m \u001b[0mself\u001b[0m\u001b[0;34m.\u001b[0m\u001b[0m_sock\u001b[0m\u001b[0;34m.\u001b[0m\u001b[0mrecv_into\u001b[0m\u001b[0;34m(\u001b[0m\u001b[0mb\u001b[0m\u001b[0;34m)\u001b[0m\u001b[0;34m\u001b[0m\u001b[0;34m\u001b[0m\u001b[0m\n\u001b[0m\u001b[1;32m    706\u001b[0m             \u001b[0;32mexcept\u001b[0m \u001b[0mtimeout\u001b[0m\u001b[0;34m:\u001b[0m\u001b[0;34m\u001b[0m\u001b[0;34m\u001b[0m\u001b[0m\n\u001b[1;32m    707\u001b[0m                 \u001b[0mself\u001b[0m\u001b[0;34m.\u001b[0m\u001b[0m_timeout_occurred\u001b[0m \u001b[0;34m=\u001b[0m \u001b[0;32mTrue\u001b[0m\u001b[0;34m\u001b[0m\u001b[0;34m\u001b[0m\u001b[0m\n",
            "\u001b[0;31mKeyboardInterrupt\u001b[0m: "
          ]
        }
      ],
      "source": [
        "#parameters\n",
        "\n",
        "dd = pd.DataFrame()\n",
        "ddt = pd.DataFrame()\n",
        "\n",
        "#title Start actual driver\n",
        "from selenium_profiles.webdriver import Chrome\n",
        "from selenium_profiles.profiles import profiles\n",
        "from selenium.webdriver.common.by import By  # locate elements\n",
        "from selenium_profiles.utils.colab_utils import display, showscreen, show_html # virtual display\n",
        "from webdriver_manager.chrome import ChromeDriverManager\n",
        "from bs4 import BeautifulSoup\n",
        "from datetime import datetime\n",
        "#\n",
        "from selenium.webdriver import Chrome\n",
        "\n",
        "from selenium import webdriver\n",
        "from selenium.webdriver.chrome.service import Service\n",
        "\n",
        "service = Service(executable_path=\"chromedriver\")\n",
        "options = webdriver.ChromeOptions()\n",
        "options.add_argument('--headless')\n",
        "options.add_argument('--no-sandbox')\n",
        "options.add_argument('--profile')\n",
        "#driver = webdriver.Chrome(service=service, options=options)\n",
        "\n",
        "from selenium.webdriver.chrome.options import Options\n",
        "from selenium.webdriver.chrome.service import Service\n",
        "from webdriver_manager.chrome import ChromeDriverManager\n",
        "\n",
        "profile = profiles.Windows()\n",
        "\n",
        "driver = webdriver.Chrome(service=Service(ChromeDriverManager(version=\"90.0.4430.24\").install()), options=options)\n",
        "\n",
        "#\n",
        "'''\n",
        "options = Options()\n",
        "options.headless = True\n",
        "'''\n",
        "\n",
        "hora_inicio = datetime.now()\n",
        "\n",
        "'''\n",
        "chromedriver_path = ChromeDriverManager(version=\"90.0.4430.24\").install()\n",
        "#chromedriver_path = ChromeDriverManager(version=\"90.0.4430.212\").install()\n",
        "#chromedriver_path = ChromeDriverManager().install()\n",
        "\n",
        "\n",
        "profile = profiles.Windows() # or .Android\n",
        "profile[\"cdp\"][\"cores\"] = None # Chrome 90 doesn't allow emulating cores :(driver = mydriver.start(profile, uc_driver=False, executable_path=chromedriver_path)\n",
        "\n",
        "driver = Chrome(profile, executable_path=chromedriver_path)\n",
        "#mydriver = Chrome(executable_path=chromedriver_path)\n",
        "'''\n",
        "display = display()\n",
        "display.start_display()\n",
        "#driver = mydriver.start()\n",
        "\n",
        "#Scrap law projects\n",
        "\n",
        "for e in numbers:\n",
        "  #clean\n",
        "  estadoscrap = []\n",
        "  autorlink = []\n",
        "  fecha = []\n",
        "  enlace = []\n",
        "  for i in var:\n",
        "    globals()[str(i)] = []\n",
        "\n",
        "\n",
        "  print(e)\n",
        "  hoy = datetime.now().strftime(\"%d/%m/%Y %H:%M:%S\")\n",
        "  link = 'https://wb2server.congreso.gob.pe/spley-portal/#/expediente/2021/'+str(e)\n",
        "\n",
        "  fecha.append(hoy)\n",
        "  enlace.append(link)\n",
        "  try:\n",
        "    driver.get(link)  # test client hints\n",
        "    time.sleep(2) # Tiempo de espera de 2s para ejecutar lo siguiente\n",
        "    try:\n",
        "      try:\n",
        "        driver.find_element(By.XPATH,'//*[@id=\"p-fieldset-0-content\"]/div/div[1]/div[9]/ul/li[3]/a[2]').click()\n",
        "      except:\n",
        "        driver.find_element(By.XPATH,'//*[@id=\"p-fieldset-1-content\"]/div/div[1]/div[9]/ul/li[3]/a[2]').click()  #exp 2412\n",
        "    except NoSuchElementException:\n",
        "      print('not button')\n",
        "\n",
        "    try:\n",
        "      try:\n",
        "        autorlin = driver.find_element(By.XPATH,'//*[@id=\"p-fieldset-0-content\"]/div/div[1]/div[8]/ul/li/a').get_attribute('href')\n",
        "      except StaleElementReferenceException:\n",
        "        autorlin = ''\n",
        "\n",
        "      status='no'\n",
        "      autorlink.append(autorlin)\n",
        "\n",
        "      for i,j in zip(var,path):\n",
        "        #fill data into list\n",
        "        try:\n",
        "          globals()[str(i)].append(driver.find_element(By.XPATH,j).text)\n",
        "        except NoSuchElementException:\n",
        "          globals()[str(i)].append('')\n",
        "      status = 'yes'\n",
        "      estadoscrap.append(status)\n",
        "      print('ok')\n",
        "    except NoSuchElementException:\n",
        "      pass\n",
        "    try:\n",
        "      table_element = driver.find_element(By.XPATH,path14)\n",
        "      table_html = table_element.get_attribute('innerHTML')\n",
        "      table_soup = BeautifulSoup(table_html, 'html.parser')\n",
        "      table = table_soup.table\n",
        "      dft = pd.read_html(str(table))[0]\n",
        "      dft['enlace'] = link\n",
        "    except NoSuchElementException:\n",
        "      dft = pd.DataFrame()\n",
        "  except NoSuchElementException:\n",
        "    for i,j in zip(var,path):\n",
        "        globals()[str(i)].append('')\n",
        "    estadoscrap.append(status)\n",
        "    #showscreen(driver)\n",
        "\n",
        "  #Close Driver\n",
        "  # driver.quit()\n",
        "  # display.stop_display()\n",
        "  # time.sleep(2)\n",
        "  #append data to one law project\n",
        "  data_tuples = list(zip(titulo,\n",
        "                        periodo,\n",
        "                        legisla,\n",
        "                        fechapresenta,\n",
        "                        proponente,\n",
        "                        sumilla,\n",
        "                        observaciones,\n",
        "                        autor,\n",
        "                        coautor,\n",
        "                        adherentes,\n",
        "                        grupoparla,\n",
        "                        comisiones,\n",
        "                        ultimoestado,\n",
        "                        estadoscrap,\n",
        "                        autorlink,\n",
        "                        fecha,\n",
        "                        enlace))\n",
        "  #Convert data tuple into dataframe\n",
        "  df = pd.DataFrame(data_tuples, columns=vars) # creates dataframe of each tuple in list\n",
        "    #Append to main data\n",
        "  dd = pd.concat([dd,df], axis=0, ignore_index=True) # Es la hoja \"datoscongreso\"\n",
        "  ddt = pd.concat([ddt,dft], axis=0, ignore_index=True) # Es la hoja \"datoscongresoseguimiento\"\n",
        "\n",
        "print(datetime.now() - hora_inicio)\n",
        "\n",
        "#Close Driver\n",
        "driver.quit()\n",
        "display.stop_display()"
      ]
    },
    {
      "cell_type": "code",
      "execution_count": null,
      "metadata": {
        "id": "QazoblahSTNL"
      },
      "outputs": [],
      "source": [
        "profile"
      ]
    },
    {
      "cell_type": "code",
      "execution_count": null,
      "metadata": {
        "id": "9UQ9al2xABZp"
      },
      "outputs": [],
      "source": [
        "driver\n"
      ]
    },
    {
      "cell_type": "code",
      "execution_count": null,
      "metadata": {
        "id": "OEibRQTO3oGG"
      },
      "outputs": [],
      "source": [
        "chromedriver_path"
      ]
    },
    {
      "cell_type": "code",
      "execution_count": null,
      "metadata": {
        "id": "mi1I116KYy1r"
      },
      "outputs": [],
      "source": [
        "ddt['enlace'].value_counts()"
      ]
    },
    {
      "cell_type": "code",
      "execution_count": null,
      "metadata": {
        "id": "IpQ5_ihwYk2K"
      },
      "outputs": [],
      "source": [
        "print('dd', dd.shape)\n",
        "print('ddt', ddt.shape)"
      ]
    },
    {
      "cell_type": "code",
      "execution_count": null,
      "metadata": {
        "id": "V8oMo6UBCqvA"
      },
      "outputs": [],
      "source": [
        "dd"
      ]
    },
    {
      "cell_type": "code",
      "execution_count": null,
      "metadata": {
        "id": "lRm0WL1tDWBO"
      },
      "outputs": [],
      "source": [
        "dd['periodo'] = dd['periodo'].str.split('\\n',expand=True)[1]\n",
        "dd['comisiones'] = dd['comisiones'].str.split('\\n',expand=True)[1]\n",
        "dd['legisla'] = dd['legisla'].str.split('\\n',expand=True)[1]\n",
        "dd['fechapresenta'] = dd['fechapresenta'].str.split('\\n',expand=True)[1]\n",
        "dd['observaciones'] = dd['observaciones'].str.split('\\n',expand=True)[1]\n",
        "dd['autor'] = dd['autor'].str.split('\\n',expand=True)[1]\n",
        "dd['grupoparla'] = dd['grupoparla'].str.split('\\n',expand=True)[1]\n",
        "dd['ultimoestado'] = dd['ultimoestado'].str.split('\\n',expand=True)[1]"
      ]
    },
    {
      "cell_type": "code",
      "execution_count": null,
      "metadata": {
        "id": "wYaKPUmLP-zA"
      },
      "outputs": [],
      "source": [
        "#Lo nuevo:\n",
        "\n",
        "dd['ultimoestado'] = np.where(dd['ultimoestado']=='EN AGENDA DEL PLENO (Seguimientos)', 'Dictamen en Pleno', dd['ultimoestado'])\n",
        "dd['ultimoestado'] = np.where(dd['ultimoestado']=='EN DEBATE - PLENO (Seguimientos)', 'Dictamen en Pleno', dd['ultimoestado'])"
      ]
    },
    {
      "cell_type": "markdown",
      "metadata": {
        "id": "aPzvJD2lE9UZ"
      },
      "source": [
        "# 06 Limpieza"
      ]
    },
    {
      "cell_type": "markdown",
      "metadata": {
        "id": "zs4-Y28bDfLz"
      },
      "source": [
        "## 06 01 Limpieza datos congreso"
      ]
    },
    {
      "cell_type": "code",
      "execution_count": null,
      "metadata": {
        "colab": {
          "background_save": true
        },
        "id": "fu1wcoW1D9qG"
      },
      "outputs": [],
      "source": [
        "has_line_break = dd['coautor'].str.contains('\\n')\n",
        "dd[has_line_break]"
      ]
    },
    {
      "cell_type": "code",
      "execution_count": null,
      "metadata": {
        "colab": {
          "background_save": true
        },
        "id": "vl5wMOzLDiF-"
      },
      "outputs": [],
      "source": [
        "dd['proponente'] = dd['proponente'].str.split('\\n', expand=True)[1]\n",
        "dd['coautor'] = dd['coautor'].str.split('\\n', expand=True)[1]\n",
        "dd['sumilla'] = dd['sumilla'].str.split('\\n', expand=True)[1]\n",
        "dd['adherentes'] = dd['adherentes'].str.split('\\n', expand=True)[1]\n",
        "dd.head(4)"
      ]
    },
    {
      "cell_type": "code",
      "execution_count": null,
      "metadata": {
        "colab": {
          "background_save": true
        },
        "id": "aOoATlJMEN6F"
      },
      "outputs": [],
      "source": [
        "from pkg_resources import DEVELOP_DIST\n",
        "dd['autor'] = dd['autor'].str.upper()\n",
        "dd['autor'] = dd['autor'].str.replace(',','')\n",
        "\n",
        "dd['autor']"
      ]
    },
    {
      "cell_type": "markdown",
      "metadata": {
        "id": "SND70LqKE0CY"
      },
      "source": [
        "## 06 02 Limpieza congreso seguimiento"
      ]
    },
    {
      "cell_type": "code",
      "execution_count": null,
      "metadata": {
        "colab": {
          "background_save": true
        },
        "id": "urRJzv7lEmLX"
      },
      "outputs": [],
      "source": [
        "ddt.head()"
      ]
    },
    {
      "cell_type": "code",
      "execution_count": null,
      "metadata": {
        "colab": {
          "background_save": true
        },
        "id": "OQ7EMRdhFKxw"
      },
      "outputs": [],
      "source": [
        "ddt.replace(np.nan, '', inplace = True)"
      ]
    },
    {
      "cell_type": "code",
      "execution_count": null,
      "metadata": {
        "colab": {
          "background_save": true
        },
        "id": "zOigcaS6FiRY"
      },
      "outputs": [],
      "source": [
        "ddt['FECHA'] = [ x[5:] for x in ddt['FECHA']]\n",
        "ddt['ESTADO PROCESAL'] = [ x[6:] for x in ddt['ESTADO PROCESAL']]\n",
        "ddt['COMISIÓN'] = [ x[8:] for x in ddt['COMISIÓN']]\n",
        "ddt['DETALLE'] = [ x[7:] for x in ddt['DETALLE']]\n",
        "ddt.head()"
      ]
    },
    {
      "cell_type": "code",
      "execution_count": null,
      "metadata": {
        "colab": {
          "background_save": true
        },
        "id": "x0cxj2_KF09a"
      },
      "outputs": [],
      "source": [
        "ddt['FECHA'] = pd.to_datetime(ddt['FECHA'], format='%d/%m/%Y')\n",
        "\n",
        "ddt = ddt.sort_values(['enlace', 'FECHA'],\n",
        "              ascending = [True, True])\n",
        "\n",
        "ddt['contador'] = ddt.groupby(['enlace']).cumcount() + 1"
      ]
    },
    {
      "cell_type": "code",
      "execution_count": null,
      "metadata": {
        "colab": {
          "background_save": true
        },
        "id": "GM8zh4ivFHLn"
      },
      "outputs": [],
      "source": [
        "ddt.shape"
      ]
    },
    {
      "cell_type": "markdown",
      "metadata": {
        "id": "nUMucBP4Gke2"
      },
      "source": [
        "#07 Creación nuevas variables"
      ]
    },
    {
      "cell_type": "code",
      "execution_count": null,
      "metadata": {
        "colab": {
          "background_save": true
        },
        "id": "3CKDaY_sGfln"
      },
      "outputs": [],
      "source": [
        "ddt['min']= ddt.groupby(['enlace'])['FECHA'].transform(min)\n",
        "ddt['max']= ddt.groupby(['enlace'])['FECHA'].transform(max)\n",
        "\n",
        "# Obtención de la fecha máxima y mínima\n",
        "\n",
        "ddt['min'] = pd.to_datetime(ddt['min'])\n",
        "ddt['max'] = pd.to_datetime(ddt['max'])\n",
        "\n",
        "# Cálculo del tiempo de duración\n",
        "\n",
        "ddt['dias_proceso'] = (ddt['max'] - ddt['min']).dt.days # dt.days to remove the word \"days\"\n",
        "\n",
        "# Cálculo del número de pasos del proyecto de ley\n",
        "\n",
        "ddt['contador_total']= ddt.groupby(['enlace'])['contador'].transform(max)"
      ]
    },
    {
      "cell_type": "code",
      "execution_count": null,
      "metadata": {
        "colab": {
          "background_save": true
        },
        "id": "aeLN-csBHBWl"
      },
      "outputs": [],
      "source": [
        "# Creación de la variable semanas_proceso:\n",
        "\n",
        "ddt['semanas_proceso'] = ddt['dias_proceso']/140\n",
        "\n",
        "# Creación de variable categórica para los días:\n",
        "\n",
        "'''\n",
        "De 0 a 20 semanas = 1\n",
        "De 20 a 40 semanas = 2\n",
        "y así sucesivamente\n",
        "'''\n",
        "# Redondear hacia arriba para obtener la variable categórica:\n",
        "\n",
        "ddt['semanas_proceso_cat'] = ddt['semanas_proceso'].apply(np.ceil)\n",
        "\n",
        "# Creación de variable categórica para el contador total:\n",
        "\n",
        "ddt['contador_total_cat'] = (ddt['contador_total']/5).apply(np.ceil)"
      ]
    },
    {
      "cell_type": "code",
      "execution_count": null,
      "metadata": {
        "colab": {
          "background_save": true
        },
        "id": "0sRwuogHLQrW"
      },
      "outputs": [],
      "source": [
        "# Creación de la variable brecha_fecha:\n",
        "\n",
        "ddt['brecha_fecha'] = (datetime.now() - ddt['max']).dt.days\n",
        "\n",
        "# Creación variable: contador^2\n",
        "\n",
        "ddt['contador2'] = ddt['contador_total']*ddt['contador_total']\n",
        "\n",
        "# Creación variable: dias_proceso^2\n",
        "\n",
        "ddt['dias_proceso2'] = ddt['dias_proceso']*ddt['dias_proceso']"
      ]
    },
    {
      "cell_type": "markdown",
      "metadata": {
        "id": "ZYJjwXk_Hrny"
      },
      "source": [
        "# 08 Merge"
      ]
    },
    {
      "cell_type": "code",
      "execution_count": null,
      "metadata": {
        "colab": {
          "background_save": true
        },
        "id": "W6nCLwrLHT1p"
      },
      "outputs": [],
      "source": [
        "df=pd.merge(dd, ddt[['contador_total','dias_proceso','enlace','semanas_proceso', 'semanas_proceso_cat', 'contador_total_cat', 'max','brecha_fecha','contador2','dias_proceso2']].drop_duplicates(subset='enlace', keep='last'), on=\"enlace\", how=\"left\", indicator=True)\n",
        "df"
      ]
    },
    {
      "cell_type": "code",
      "execution_count": null,
      "metadata": {
        "colab": {
          "background_save": true
        },
        "id": "7sRM7neKKKJg"
      },
      "outputs": [],
      "source": [
        "df = df.drop(['_merge'], axis=1)"
      ]
    },
    {
      "cell_type": "code",
      "execution_count": null,
      "metadata": {
        "colab": {
          "background_save": true
        },
        "id": "uhg2L7BgHtsd"
      },
      "outputs": [],
      "source": [
        "# Merge con datos congresistas"
      ]
    },
    {
      "cell_type": "code",
      "execution_count": null,
      "metadata": {
        "colab": {
          "background_save": true
        },
        "id": "029v_iU-IpT3"
      },
      "outputs": [],
      "source": [
        "list_1 = df['autor'].str.replace(',','').unique() #keys\n",
        "list_2 = datoscongresistas['nombre'][(datoscongresistas['nombre']!='') & (datoscongresistas['fin'].str.contains('2026|2027|2028')==True)].unique()\n",
        "\n",
        "bb = match_phrases_target(list_1, list_2, nn = 1)"
      ]
    },
    {
      "cell_type": "code",
      "execution_count": null,
      "metadata": {
        "colab": {
          "background_save": true
        },
        "id": "DSTcRUumJPcx"
      },
      "outputs": [],
      "source": [
        "print('list_1',list_1.shape)\n",
        "print('list_2',list_2.shape)\n",
        "bb"
      ]
    },
    {
      "cell_type": "code",
      "execution_count": null,
      "metadata": {
        "colab": {
          "background_save": true
        },
        "id": "AEL0iiOUJd60"
      },
      "outputs": [],
      "source": [
        "bb = bb[['list_1_phrases', 'list_2_ccpp']]\n",
        "bb.columns = ['key_autor', 'key_congresista']\n",
        "bb"
      ]
    },
    {
      "cell_type": "code",
      "execution_count": null,
      "metadata": {
        "colab": {
          "background_save": true
        },
        "id": "P3pGChYLJiPr"
      },
      "outputs": [],
      "source": [
        "df1 = pd.merge(df, bb, left_on=\"autor\", right_on=\"key_autor\", how=\"left\", indicator=True)\n",
        "df1"
      ]
    },
    {
      "cell_type": "code",
      "execution_count": null,
      "metadata": {
        "colab": {
          "background_save": true
        },
        "id": "Chv8ZYlSK7aA"
      },
      "outputs": [],
      "source": [
        "df1 = df1.drop(['_merge'], axis=1)"
      ]
    },
    {
      "cell_type": "code",
      "execution_count": null,
      "metadata": {
        "colab": {
          "background_save": true
        },
        "id": "H1Cc6fftK6pq"
      },
      "outputs": [],
      "source": [
        "df2 = pd.merge(df1, datoscongresistas[['nombre','votacion','inicio','fin','grupopartido','bancada','representa','condicion']][(datoscongresistas['nombre']!='') & (datoscongresistas['fin'].str.contains('2026|2027|2028')==True)],\n",
        "               left_on=\"key_congresista\", right_on=\"nombre\", how=\"left\", indicator=True)"
      ]
    },
    {
      "cell_type": "markdown",
      "metadata": {
        "id": "tZEDntVKWSRr"
      },
      "source": [
        "# 10 Exportación de bases"
      ]
    },
    {
      "cell_type": "code",
      "execution_count": null,
      "metadata": {
        "colab": {
          "background_save": true
        },
        "id": "8ifaKc_EmkYs"
      },
      "outputs": [],
      "source": [
        "# exportación \"scrapping_periodico\"\n",
        "lin = 'https://docs.google.com/spreadsheets/d/16vsPetGMBsRQfz-jIYL7JL32euMCYA6O8-qA48L4W8U/edit#gid=0'"
      ]
    },
    {
      "cell_type": "code",
      "execution_count": null,
      "metadata": {
        "colab": {
          "background_save": true
        },
        "id": "Ksqjht_-MR7z"
      },
      "outputs": [],
      "source": [
        "sh2 = gc.open_by_url(lin)\n",
        "wks1 = sh2[2]\n",
        "wks1.clear(start='A1', end=None)\n",
        "wks1.set_dataframe(df2, 'A1')"
      ]
    },
    {
      "cell_type": "code",
      "execution_count": null,
      "metadata": {
        "colab": {
          "background_save": true
        },
        "id": "bH6hlH2dYICp"
      },
      "outputs": [],
      "source": [
        "# exportación base \"scrapping_seguimiento\"\n",
        "\n",
        "wks1 = sh2[3]\n",
        "wks1.clear(start='A1', end=None)\n",
        "wks1.set_dataframe(ddt, 'A1')"
      ]
    },
    {
      "cell_type": "code",
      "execution_count": null,
      "metadata": {
        "id": "WwaI1L8nMc-q"
      },
      "outputs": [],
      "source": [
        "# Término del script"
      ]
    }
  ],
  "metadata": {
    "colab": {
      "toc_visible": true,
      "provenance": [],
      "include_colab_link": true
    },
    "kernelspec": {
      "display_name": "Python 3",
      "name": "python3"
    },
    "language_info": {
      "name": "python"
    }
  },
  "nbformat": 4,
  "nbformat_minor": 0
}